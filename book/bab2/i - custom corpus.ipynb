{
 "cells": [
  {
   "cell_type": "code",
   "execution_count": 25,
   "metadata": {},
   "outputs": [],
   "source": [
    "import nltk\n",
    "from nltk.corpus import PlaintextCorpusReader\n",
    "from nltk import word_tokenize\n",
    "corpus_root = \"./Text Collection/\""
   ]
  },
  {
   "cell_type": "code",
   "execution_count": 26,
   "metadata": {},
   "outputs": [],
   "source": [
    "customCorpus = PlaintextCorpusReader(corpus_root, '.*')\n",
    "customCorpus.fileids()\n",
    "fullRaw = customCorpus.raw(fileids='MeraihBintang.txt')"
   ]
  },
  {
   "cell_type": "code",
   "execution_count": 27,
   "metadata": {},
   "outputs": [
    {
     "name": "stdout",
     "output_type": "stream",
     "text": [
      "Setiap saat setiap waktu\n",
      "Keringat basahi tubuh\n",
      "Ini saat yang kutunggu\n",
      "Hari ini ku buktikan\n",
      "\n",
      "Ku yakin aku kan menang\n",
      "Hari ini kan dikenang\n",
      "Semua doa kupanjatkan\n",
      "Sejarah kupersembahkan\n",
      "\n",
      "Terus fokus satu titik, hanya itu titik itu\n",
      "Tetap fokus kita kejar lampaui batas\n",
      "Terus fokus satu titik, Hanya itu titik itu\n",
      "Tetap fokus kita kejar dan raih bintang\n",
      "\n",
      "Yo yo ayo… yo ayo Yo yo ayo… yo ayo\n",
      "Yo yo ayo… yo ayo Yo yo.. ooo…ooo\n",
      "Yo yo ayo… yo ayo Yo yo ayo… yo ayo\n",
      "Yo yo ayo.. kita datang kita raih kita menang\n",
      "\n",
      "Kalau menang berprestasi\n",
      "Kalau kalah jangan frustasi\n",
      "Kalah menang solidaritas\n",
      "Kita galang sportifitas\n",
      "\n",
      "Kalau menang berprestasi\n",
      "Kalau kalah jangan frustasi\n",
      "Kalah menang solidaritas\n",
      "Kita galang sportifitas\n",
      "\n",
      "Terus fokus satu titik, hanya itu titik itu\n",
      "Tetap fokus kita kejar dan raih bintang\n",
      "\n",
      "Yo yo ayo… yo ayo Yo yo ayo… yo ayo\n",
      "Yo yo ayo… yo ayo Yo yo.. ooo…ooo\n",
      "Yo yo ayo… yo ayo Yo yo ayo… yo ayo\n",
      "Yo yo ayo.. kita datang kita raih kita menang\n",
      "\n",
      "Terus fokus satu titik, hanya itu titik itu\n",
      "Tetap fokus kita kejar lampaui batas\n",
      "Terus fokus satu titik, Hanya itu titik itu\n",
      "Tetap fokus kita kejar dan raih bintang\n",
      "\n"
     ]
    }
   ],
   "source": [
    "print fullRaw"
   ]
  },
  {
   "cell_type": "code",
   "execution_count": 28,
   "metadata": {},
   "outputs": [],
   "source": [
    "text1 = word_tokenize(fullText)"
   ]
  },
  {
   "cell_type": "code",
   "execution_count": 29,
   "metadata": {},
   "outputs": [
    {
     "name": "stdout",
     "output_type": "stream",
     "text": [
      "[u'Setiap', u'saat', u'setiap', u'waktu', u'Keringat', u'basahi', u'tubuh', u'Ini', u'saat', u'yang', u'kutunggu', u'Hari', u'ini', u'ku', u'buktikan', u'Ku', u'yakin', u'aku', u'kan', u'menang', u'Hari', u'ini', u'kan', u'dikenang', u'Semua', u'doa', u'kupanjatkan', u'Sejarah', u'kupersembahkan', u'Terus', u'fokus', u'satu', u'titik', u',', u'hanya', u'itu', u'titik', u'itu', u'Tetap', u'fokus', u'kita', u'kejar', u'lampaui', u'batas', u'Terus', u'fokus', u'satu', u'titik', u',', u'Hanya', u'itu', u'titik', u'itu', u'Tetap', u'fokus', u'kita', u'kejar', u'dan', u'raih', u'bintang', u'Yo', u'yo', u'ayo\\u2026', u'yo', u'ayo', u'Yo', u'yo', u'ayo\\u2026', u'yo', u'ayo', u'Yo', u'yo', u'ayo\\u2026', u'yo', u'ayo', u'Yo', u'yo..', u'ooo\\u2026ooo', u'Yo', u'yo', u'ayo\\u2026', u'yo', u'ayo', u'Yo', u'yo', u'ayo\\u2026', u'yo', u'ayo', u'Yo', u'yo', u'ayo..', u'kita', u'datang', u'kita', u'raih', u'kita', u'menang', u'Kalau', u'menang', u'berprestasi', u'Kalau', u'kalah', u'jangan', u'frustasi', u'Kalah', u'menang', u'solidaritas', u'Kita', u'galang', u'sportifitas', u'Kalau', u'menang', u'berprestasi', u'Kalau', u'kalah', u'jangan', u'frustasi', u'Kalah', u'menang', u'solidaritas', u'Kita', u'galang', u'sportifitas', u'Terus', u'fokus', u'satu', u'titik', u',', u'hanya', u'itu', u'titik', u'itu', u'Tetap', u'fokus', u'kita', u'kejar', u'dan', u'raih', u'bintang', u'Yo', u'yo', u'ayo\\u2026', u'yo', u'ayo', u'Yo', u'yo', u'ayo\\u2026', u'yo', u'ayo', u'Yo', u'yo', u'ayo\\u2026', u'yo', u'ayo', u'Yo', u'yo..', u'ooo\\u2026ooo', u'Yo', u'yo', u'ayo\\u2026', u'yo', u'ayo', u'Yo', u'yo', u'ayo\\u2026', u'yo', u'ayo', u'Yo', u'yo', u'ayo..', u'kita', u'datang', u'kita', u'raih', u'kita', u'menang', u'Terus', u'fokus', u'satu', u'titik', u',', u'hanya', u'itu', u'titik', u'itu', u'Tetap', u'fokus', u'kita', u'kejar', u'lampaui', u'batas', u'Terus', u'fokus', u'satu', u'titik', u',', u'Hanya', u'itu', u'titik', u'itu', u'Tetap', u'fokus', u'kita', u'kejar', u'dan', u'raih', u'bintang']\n"
     ]
    }
   ],
   "source": [
    "print text1"
   ]
  },
  {
   "cell_type": "code",
   "execution_count": 30,
   "metadata": {},
   "outputs": [
    {
     "name": "stdout",
     "output_type": "stream",
     "text": [
      "Setiap saat setiap waktu\n",
      "Keringat basahi tubuh\n",
      "Ini saat yang kutunggu\n",
      "Hari ini ku buktikan\n",
      "\n",
      "Ku yakin aku kan menang\n",
      "Hari ini kan dikenang\n",
      "Semua doa kupanjatkan\n",
      "Sejarah kupersembahkan\n",
      "\n",
      "Terus fokus satu titik, hanya itu titik itu\n",
      "Tetap fokus kita kejar lampaui batas\n",
      "Terus fokus satu titik, Hanya itu titik itu\n",
      "Tetap fokus kita kejar dan raih bintang\n",
      "\n",
      "Yo yo ayo… yo ayo Yo yo ayo… yo ayo\n",
      "Yo yo ayo… yo ayo Yo yo.. ooo…ooo\n",
      "Yo yo ayo… yo ayo Yo yo ayo… yo ayo\n",
      "Yo yo ayo.. kita datang kita raih kita menang\n",
      "\n",
      "Kalau menang berprestasi\n",
      "Kalau kalah jangan frustasi\n",
      "Kalah menang solidaritas\n",
      "Kita galang sportifitas\n",
      "\n",
      "Kalau menang berprestasi\n",
      "Kalau kalah jangan frustasi\n",
      "Kalah menang solidaritas\n",
      "Kita galang sportifitas\n",
      "\n",
      "Terus fokus satu titik, hanya itu titik itu\n",
      "Tetap fokus kita kejar dan raih bintang\n",
      "\n",
      "Yo yo ayo… yo ayo Yo yo ayo… yo ayo\n",
      "Yo yo ayo… yo ayo Yo yo.. ooo…ooo\n",
      "Yo yo ayo… yo ayo Yo yo ayo… yo ayo\n",
      "Yo yo ayo.. kita datang kita raih kita menang\n",
      "\n",
      "Terus fokus satu titik, hanya itu titik itu\n",
      "Tetap fokus kita kejar lampaui batas\n",
      "Terus fokus satu titik, Hanya itu titik itu\n",
      "Tetap fokus kita kejar dan raih bintang\n",
      "\n"
     ]
    }
   ],
   "source": [
    "print fullRaw"
   ]
  },
  {
   "cell_type": "code",
   "execution_count": 47,
   "metadata": {},
   "outputs": [
    {
     "name": "stdout",
     "output_type": "stream",
     "text": [
      "<class 'nltk.corpus.reader.util.StreamBackedCorpusView'>\n",
      "<class 'nltk.text.Text'>\n",
      "Displaying 2 of 2 matches:\n",
      "k itu Tetap fokus kita kejar lampaui batas Terus fokus satu titik , Hanya itu t\n",
      "k itu Tetap fokus kita kejar lampaui batas Terus fokus satu titik , Hanya itu t\n"
     ]
    }
   ],
   "source": [
    "words = customCorpus.words('MeraihBintang.txt')\n",
    "text = nltk.Text(words)\n",
    "print type(words)\n",
    "print type(text)\n",
    "text.concordance(\"batas\")"
   ]
  },
  {
   "cell_type": "code",
   "execution_count": 45,
   "metadata": {},
   "outputs": [
    {
     "data": {
      "text/plain": [
       "list"
      ]
     },
     "execution_count": 45,
     "metadata": {},
     "output_type": "execute_result"
    }
   ],
   "source": [
    "type(text1)"
   ]
  },
  {
   "cell_type": "code",
   "execution_count": null,
   "metadata": {},
   "outputs": [],
   "source": []
  }
 ],
 "metadata": {
  "kernelspec": {
   "display_name": "Python 2",
   "language": "python",
   "name": "python2"
  },
  "language_info": {
   "codemirror_mode": {
    "name": "ipython",
    "version": 2
   },
   "file_extension": ".py",
   "mimetype": "text/x-python",
   "name": "python",
   "nbconvert_exporter": "python",
   "pygments_lexer": "ipython2",
   "version": "2.7.15"
  }
 },
 "nbformat": 4,
 "nbformat_minor": 2
}
