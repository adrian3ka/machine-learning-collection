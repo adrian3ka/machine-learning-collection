{
 "cells": [
  {
   "cell_type": "code",
   "execution_count": 1,
   "metadata": {},
   "outputs": [],
   "source": [
    "import nltk\n",
    "from nltk.corpus import brown"
   ]
  },
  {
   "cell_type": "code",
   "execution_count": 2,
   "metadata": {},
   "outputs": [],
   "source": [
    "tagged_token = nltk.tag.str2tuple('Saya/SUBJEK')"
   ]
  },
  {
   "cell_type": "code",
   "execution_count": 3,
   "metadata": {},
   "outputs": [
    {
     "data": {
      "text/plain": [
       "('Saya', 'SUBJEK')"
      ]
     },
     "execution_count": 3,
     "metadata": {},
     "output_type": "execute_result"
    }
   ],
   "source": [
    "tagged_token"
   ]
  },
  {
   "cell_type": "code",
   "execution_count": 108,
   "metadata": {},
   "outputs": [],
   "source": [
    "sent = '''\n",
    "Pagi/BENDA ini/PRONOMINA sangat/KETERANGAN cerah/SIFAT ./. \n",
    "Rubah/BENDA sedang/KETERANGAN berjalan-jalan/KERJA menikmati/KERJA udara/BENDA yang/PARTIKEL segar/SIFAT ./. \n",
    "Tiba-tiba/KETERANGAN ia/BENDA mengendus/KERJA bau/BENDA yang/PARTIKEL sangat/KETERANGAN lezat/SIFAT ./. \n",
    "Rupanya/KETERANGAN itu/PRONOMINA adalah/KERJA bau/BENDA daging/BENDA yang/PARTIKEL dibawa/KERJA Gagak/BENDA ./.\n",
    "'''"
   ]
  },
  {
   "cell_type": "code",
   "execution_count": 109,
   "metadata": {},
   "outputs": [],
   "source": [
    "tagged_words = [nltk.tag.str2tuple(t) for t in sent.split()]"
   ]
  },
  {
   "cell_type": "code",
   "execution_count": 110,
   "metadata": {},
   "outputs": [
    {
     "name": "stdout",
     "output_type": "stream",
     "text": [
      "[('Pagi', 'BENDA'), ('ini', 'PRONOMINA'), ('sangat', 'KETERANGAN'), ('cerah', 'SIFAT'), ('.', '.'), ('Rubah', 'BENDA'), ('sedang', 'KETERANGAN'), ('berjalan-jalan', 'KERJA'), ('menikmati', 'KERJA'), ('udara', 'BENDA'), ('yang', 'PARTIKEL'), ('segar', 'SIFAT'), ('.', '.'), ('Tiba-tiba', 'KETERANGAN'), ('ia', 'BENDA'), ('mengendus', 'KERJA'), ('bau', 'BENDA'), ('yang', 'PARTIKEL'), ('sangat', 'KETERANGAN'), ('lezat', 'SIFAT'), ('.', '.'), ('Rupanya', 'KETERANGAN'), ('itu', 'PRONOMINA'), ('adalah', 'KERJA'), ('bau', 'BENDA'), ('daging', 'BENDA'), ('yang', 'PARTIKEL'), ('dibawa', 'KERJA'), ('Gagak', 'BENDA'), ('.', '.')]\n"
     ]
    }
   ],
   "source": [
    "print tagged_words"
   ]
  },
  {
   "cell_type": "code",
   "execution_count": 111,
   "metadata": {},
   "outputs": [],
   "source": [
    "type(tagged_words)\n",
    "\n",
    "tagged_words_pairs = nltk.bigrams(tagged_words)"
   ]
  },
  {
   "cell_type": "code",
   "execution_count": 112,
   "metadata": {},
   "outputs": [
    {
     "data": {
      "text/plain": [
       "<generator object bigrams at 0x7fdb72494550>"
      ]
     },
     "execution_count": 112,
     "metadata": {},
     "output_type": "execute_result"
    }
   ],
   "source": [
    "tagged_words_pairs"
   ]
  },
  {
   "cell_type": "code",
   "execution_count": 113,
   "metadata": {},
   "outputs": [
    {
     "data": {
      "text/plain": [
       "['PRONOMINA', '.', 'KERJA', 'BENDA', 'KETERANGAN', 'PARTIKEL']"
      ]
     },
     "execution_count": 113,
     "metadata": {},
     "output_type": "execute_result"
    }
   ],
   "source": [
    "list(nltk.FreqDist(b[1] for (a, b) in tagged_words_pairs if a[1] == 'BENDA'))"
   ]
  },
  {
   "cell_type": "code",
   "execution_count": 107,
   "metadata": {},
   "outputs": [
    {
     "name": "stdout",
     "output_type": "stream",
     "text": [
      "BENDA\n",
      "PRONOMINA\n",
      "KETERANGAN\n",
      "SIFAT\n",
      ".\n",
      "BENDA\n",
      "KETERANGAN\n",
      "KERJA\n",
      "KERJA\n",
      "BENDA\n",
      "PARTIKEL\n",
      "SIFAT\n",
      ".\n",
      "KETERANGAN\n",
      "BENDA\n",
      "KERJA\n",
      "BENDA\n",
      "PARTIKEL\n",
      "KETERANGAN\n",
      "SIFAT\n",
      ".\n",
      "KETERANGAN\n",
      "PRONOMINA\n",
      "KERJA\n",
      "BENDA\n",
      "BENDA\n",
      "PARTIKEL\n",
      "KERJA\n",
      "BENDA\n",
      ".\n"
     ]
    }
   ],
   "source": [
    "for (a, b) in tagged_words:\n",
    "    print b"
   ]
  },
  {
   "cell_type": "code",
   "execution_count": null,
   "metadata": {},
   "outputs": [],
   "source": []
  }
 ],
 "metadata": {
  "kernelspec": {
   "display_name": "Python 2",
   "language": "python",
   "name": "python2"
  },
  "language_info": {
   "codemirror_mode": {
    "name": "ipython",
    "version": 2
   },
   "file_extension": ".py",
   "mimetype": "text/x-python",
   "name": "python",
   "nbconvert_exporter": "python",
   "pygments_lexer": "ipython2",
   "version": "2.7.15"
  }
 },
 "nbformat": 4,
 "nbformat_minor": 2
}
