{
 "cells": [
  {
   "cell_type": "code",
   "execution_count": 1,
   "metadata": {},
   "outputs": [],
   "source": [
    "import nltk\n",
    "from nltk.corpus import brown"
   ]
  },
  {
   "cell_type": "code",
   "execution_count": 2,
   "metadata": {},
   "outputs": [],
   "source": [
    "tagged_token = nltk.tag.str2tuple('Saya/SUBJEK')"
   ]
  },
  {
   "cell_type": "code",
   "execution_count": 3,
   "metadata": {},
   "outputs": [
    {
     "data": {
      "text/plain": [
       "('Saya', 'SUBJEK')"
      ]
     },
     "execution_count": 3,
     "metadata": {},
     "output_type": "execute_result"
    }
   ],
   "source": [
    "tagged_token"
   ]
  },
  {
   "cell_type": "code",
   "execution_count": 6,
   "metadata": {},
   "outputs": [],
   "source": [
    "sent = '''\n",
    "Pagi/BENDA ini/PRONOMINA sangat/KETERANGAN cerah/SIFAT ./. \n",
    "Rubah/BENDA sedang/KETERANGAN berjalan-jalan/KERJA menikmati/KERJA udara/BENDA yang/PARTIKEL segar/SIFAT ./. \n",
    "Tiba-tiba/KETERANGAN ia/BENDA mengendus/KERJA bau/BENDA yang/PARTIKEL sangat/KETERANGAN lezat/SIFAT ./. \n",
    "Rupanya/KETERANGAN itu/PRONOMINA adalah/KERJA bau/BENDA daging/BENDA yang/PARTIKEL dibawa/KERJA Gagak/BENDA.\n",
    "'''"
   ]
  },
  {
   "cell_type": "code",
   "execution_count": 7,
   "metadata": {},
   "outputs": [
    {
     "data": {
      "text/plain": [
       "[('Pagi', 'BENDA'),\n",
       " ('ini', 'PRONOMINA'),\n",
       " ('sangat', 'KETERANGAN'),\n",
       " ('cerah', 'SIFAT'),\n",
       " ('.', '.'),\n",
       " ('Rubah', 'BENDA'),\n",
       " ('sedang', 'KETERANGAN'),\n",
       " ('berjalan-jalan', 'KERJA'),\n",
       " ('menikmati', 'KERJA'),\n",
       " ('udara', 'BENDA'),\n",
       " ('yang', 'PARTIKEL'),\n",
       " ('segar', 'SIFAT'),\n",
       " ('.', '.'),\n",
       " ('Tiba-tiba', 'KETERANGAN'),\n",
       " ('ia', 'BENDA'),\n",
       " ('mengendus', 'KERJA'),\n",
       " ('bau', 'BENDA'),\n",
       " ('yang', 'PARTIKEL'),\n",
       " ('sangat', 'KETERANGAN'),\n",
       " ('lezat', 'SIFAT'),\n",
       " ('.', '.'),\n",
       " ('Rupanya', 'KETERANGAN'),\n",
       " ('itu', 'PRONOMINA'),\n",
       " ('adalah', 'KERJA'),\n",
       " ('bau', 'BENDA'),\n",
       " ('daging', 'BENDA'),\n",
       " ('yang', 'PARTIKEL'),\n",
       " ('dibawa', 'KERJA'),\n",
       " ('Gagak', 'BENDA.')]"
      ]
     },
     "execution_count": 7,
     "metadata": {},
     "output_type": "execute_result"
    }
   ],
   "source": [
    "[nltk.tag.str2tuple(t) for t in sent.split()]"
   ]
  },
  {
   "cell_type": "code",
   "execution_count": null,
   "metadata": {},
   "outputs": [],
   "source": []
  }
 ],
 "metadata": {
  "kernelspec": {
   "display_name": "Python 2",
   "language": "python",
   "name": "python2"
  },
  "language_info": {
   "codemirror_mode": {
    "name": "ipython",
    "version": 2
   },
   "file_extension": ".py",
   "mimetype": "text/x-python",
   "name": "python",
   "nbconvert_exporter": "python",
   "pygments_lexer": "ipython2",
   "version": "2.7.15"
  }
 },
 "nbformat": 4,
 "nbformat_minor": 2
}
