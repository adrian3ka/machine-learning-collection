{
 "cells": [
  {
   "cell_type": "code",
   "execution_count": 70,
   "metadata": {},
   "outputs": [],
   "source": [
    "import nltk\n",
    "from nltk.corpus import brown"
   ]
  },
  {
   "cell_type": "code",
   "execution_count": 71,
   "metadata": {},
   "outputs": [],
   "source": [
    "pos = {}"
   ]
  },
  {
   "cell_type": "code",
   "execution_count": 72,
   "metadata": {},
   "outputs": [
    {
     "data": {
      "text/plain": [
       "{}"
      ]
     },
     "execution_count": 72,
     "metadata": {},
     "output_type": "execute_result"
    }
   ],
   "source": [
    "pos"
   ]
  },
  {
   "cell_type": "code",
   "execution_count": 74,
   "metadata": {},
   "outputs": [],
   "source": [
    "pos['colorless'] = 'ADJ'\n",
    "pos['ideas'] = 'N'\n",
    "pos['sleep'] = 'V'\n",
    "pos['furiously'] = 'ADV'"
   ]
  },
  {
   "cell_type": "code",
   "execution_count": 75,
   "metadata": {},
   "outputs": [
    {
     "data": {
      "text/plain": [
       "{'colorless': 'ADJ', 'furiously': 'ADV', 'ideas': 'N', 'sleep': 'V'}"
      ]
     },
     "execution_count": 75,
     "metadata": {},
     "output_type": "execute_result"
    }
   ],
   "source": [
    "pos"
   ]
  },
  {
   "cell_type": "code",
   "execution_count": 76,
   "metadata": {},
   "outputs": [
    {
     "data": {
      "text/plain": [
       "'N'"
      ]
     },
     "execution_count": 76,
     "metadata": {},
     "output_type": "execute_result"
    }
   ],
   "source": [
    "pos['ideas']"
   ]
  },
  {
   "cell_type": "code",
   "execution_count": 77,
   "metadata": {},
   "outputs": [
    {
     "data": {
      "text/plain": [
       "['furiously', 'sleep', 'ideas', 'colorless']"
      ]
     },
     "execution_count": 77,
     "metadata": {},
     "output_type": "execute_result"
    }
   ],
   "source": [
    "list(pos)"
   ]
  },
  {
   "cell_type": "code",
   "execution_count": 78,
   "metadata": {},
   "outputs": [
    {
     "data": {
      "text/plain": [
       "['colorless', 'furiously', 'ideas', 'sleep']"
      ]
     },
     "execution_count": 78,
     "metadata": {},
     "output_type": "execute_result"
    }
   ],
   "source": [
    "sorted(pos)"
   ]
  },
  {
   "cell_type": "code",
   "execution_count": 79,
   "metadata": {},
   "outputs": [
    {
     "data": {
      "text/plain": [
       "['ideas', 'colorless']"
      ]
     },
     "execution_count": 79,
     "metadata": {},
     "output_type": "execute_result"
    }
   ],
   "source": [
    "[w for w in pos if w.endswith('s')]"
   ]
  },
  {
   "cell_type": "code",
   "execution_count": 80,
   "metadata": {},
   "outputs": [
    {
     "name": "stdout",
     "output_type": "stream",
     "text": [
      "colorless: ADJ\n",
      "furiously: ADV\n",
      "ideas: N\n",
      "sleep: V\n"
     ]
    }
   ],
   "source": [
    "for word in sorted(pos):\n",
    "    print word + \":\", pos[word]"
   ]
  },
  {
   "cell_type": "code",
   "execution_count": 81,
   "metadata": {},
   "outputs": [
    {
     "data": {
      "text/plain": [
       "['furiously', 'sleep', 'ideas', 'colorless']"
      ]
     },
     "execution_count": 81,
     "metadata": {},
     "output_type": "execute_result"
    }
   ],
   "source": [
    "pos.keys()"
   ]
  },
  {
   "cell_type": "code",
   "execution_count": 82,
   "metadata": {},
   "outputs": [
    {
     "data": {
      "text/plain": [
       "['ADV', 'V', 'N', 'ADJ']"
      ]
     },
     "execution_count": 82,
     "metadata": {},
     "output_type": "execute_result"
    }
   ],
   "source": [
    "pos.values()"
   ]
  },
  {
   "cell_type": "code",
   "execution_count": 83,
   "metadata": {},
   "outputs": [
    {
     "data": {
      "text/plain": [
       "[('furiously', 'ADV'), ('sleep', 'V'), ('ideas', 'N'), ('colorless', 'ADJ')]"
      ]
     },
     "execution_count": 83,
     "metadata": {},
     "output_type": "execute_result"
    }
   ],
   "source": [
    "pos.items()"
   ]
  },
  {
   "cell_type": "code",
   "execution_count": 84,
   "metadata": {},
   "outputs": [
    {
     "name": "stdout",
     "output_type": "stream",
     "text": [
      "colorless: ADJ\n",
      "furiously: ADV\n",
      "ideas: N\n",
      "sleep: V\n"
     ]
    }
   ],
   "source": [
    "for key, val in sorted(pos.items()):\n",
    "    print key + \":\", val"
   ]
  },
  {
   "cell_type": "code",
   "execution_count": 85,
   "metadata": {},
   "outputs": [
    {
     "data": {
      "text/plain": [
       "'V'"
      ]
     },
     "execution_count": 85,
     "metadata": {},
     "output_type": "execute_result"
    }
   ],
   "source": [
    "pos['sleep'] = 'V'\n",
    "pos['sleep']"
   ]
  },
  {
   "cell_type": "code",
   "execution_count": 86,
   "metadata": {},
   "outputs": [
    {
     "data": {
      "text/plain": [
       "'N'"
      ]
     },
     "execution_count": 86,
     "metadata": {},
     "output_type": "execute_result"
    }
   ],
   "source": [
    "pos['sleep'] = 'N'\n",
    "pos['sleep']"
   ]
  },
  {
   "cell_type": "code",
   "execution_count": 87,
   "metadata": {},
   "outputs": [
    {
     "data": {
      "text/plain": [
       "[('furiously', 'ADV'), ('sleep', 'N'), ('ideas', 'N'), ('colorless', 'ADJ')]"
      ]
     },
     "execution_count": 87,
     "metadata": {},
     "output_type": "execute_result"
    }
   ],
   "source": [
    "pos.items()"
   ]
  },
  {
   "cell_type": "markdown",
   "metadata": {},
   "source": [
    "### Default Dictionary"
   ]
  },
  {
   "cell_type": "code",
   "execution_count": 113,
   "metadata": {},
   "outputs": [
    {
     "data": {
      "text/plain": [
       "0"
      ]
     },
     "execution_count": 113,
     "metadata": {},
     "output_type": "execute_result"
    }
   ],
   "source": [
    "frequency = nltk.defaultdict(int)\n",
    "frequency['colorless'] = 4\n",
    "frequency['ideas']  #this will get error without default dictionary"
   ]
  },
  {
   "cell_type": "code",
   "execution_count": 115,
   "metadata": {},
   "outputs": [
    {
     "data": {
      "text/plain": [
       "[]"
      ]
     },
     "execution_count": 115,
     "metadata": {},
     "output_type": "execute_result"
    }
   ],
   "source": [
    "pos = nltk.defaultdict(list)\n",
    "pos['sleep'] = ['N', 'V']\n",
    "pos['ideas']"
   ]
  },
  {
   "cell_type": "code",
   "execution_count": 89,
   "metadata": {},
   "outputs": [
    {
     "data": {
      "text/plain": [
       "'N'"
      ]
     },
     "execution_count": 89,
     "metadata": {},
     "output_type": "execute_result"
    }
   ],
   "source": [
    "f = lambda: 'N'\n",
    "f()"
   ]
  },
  {
   "cell_type": "code",
   "execution_count": null,
   "metadata": {},
   "outputs": [],
   "source": []
  },
  {
   "cell_type": "code",
   "execution_count": 90,
   "metadata": {},
   "outputs": [],
   "source": [
    "def g():\n",
    "    return 'N'"
   ]
  },
  {
   "cell_type": "code",
   "execution_count": 96,
   "metadata": {},
   "outputs": [
    {
     "data": {
      "text/plain": [
       "'N'"
      ]
     },
     "execution_count": 96,
     "metadata": {},
     "output_type": "execute_result"
    }
   ],
   "source": [
    "g()"
   ]
  },
  {
   "cell_type": "code",
   "execution_count": 102,
   "metadata": {},
   "outputs": [],
   "source": [
    "alice = nltk.corpus.gutenberg.words('carroll-alice.txt')\n",
    "vocab = nltk.FreqDist(alice)\n",
    "v1000 = list(vocab)[:1000]\n",
    "mapping = nltk.defaultdict(lambda: 'UNK')"
   ]
  },
  {
   "cell_type": "code",
   "execution_count": 103,
   "metadata": {},
   "outputs": [],
   "source": [
    "for v in v1000:\n",
    "    mapping[v] = v"
   ]
  },
  {
   "cell_type": "code",
   "execution_count": 104,
   "metadata": {},
   "outputs": [],
   "source": [
    "alice2 = [mapping[v] for v in alice]"
   ]
  },
  {
   "cell_type": "code",
   "execution_count": 105,
   "metadata": {},
   "outputs": [
    {
     "data": {
      "text/plain": [
       "[u'[',\n",
       " u'Alice',\n",
       " 'UNK',\n",
       " 'UNK',\n",
       " u'Adventures',\n",
       " u'in',\n",
       " u'Wonderland',\n",
       " 'UNK',\n",
       " u'Lewis',\n",
       " u'Carroll',\n",
       " 'UNK',\n",
       " 'UNK',\n",
       " 'UNK',\n",
       " 'UNK',\n",
       " u'.',\n",
       " u'Down',\n",
       " u'the',\n",
       " u'Rabbit',\n",
       " u'-',\n",
       " u'Hole',\n",
       " u'Alice',\n",
       " u'was',\n",
       " 'UNK',\n",
       " 'UNK',\n",
       " 'UNK',\n",
       " 'UNK',\n",
       " u'tired',\n",
       " 'UNK',\n",
       " 'UNK',\n",
       " 'UNK',\n",
       " 'UNK',\n",
       " 'UNK',\n",
       " 'UNK',\n",
       " u'the',\n",
       " u'bank',\n",
       " u',',\n",
       " 'UNK',\n",
       " 'UNK',\n",
       " 'UNK',\n",
       " 'UNK',\n",
       " 'UNK',\n",
       " u'do',\n",
       " 'UNK',\n",
       " 'UNK',\n",
       " 'UNK',\n",
       " u'twice',\n",
       " 'UNK',\n",
       " u'had',\n",
       " 'UNK',\n",
       " u'into',\n",
       " u'the',\n",
       " 'UNK',\n",
       " 'UNK',\n",
       " 'UNK',\n",
       " u'was',\n",
       " 'UNK',\n",
       " u',',\n",
       " 'UNK',\n",
       " u'it',\n",
       " u'had',\n",
       " u'no',\n",
       " 'UNK',\n",
       " 'UNK',\n",
       " 'UNK',\n",
       " u'in',\n",
       " u'it',\n",
       " u',',\n",
       " 'UNK',\n",
       " 'UNK',\n",
       " 'UNK',\n",
       " u'is',\n",
       " u'the',\n",
       " 'UNK',\n",
       " 'UNK',\n",
       " 'UNK',\n",
       " 'UNK',\n",
       " u\",'\",\n",
       " 'UNK',\n",
       " u'Alice',\n",
       " 'UNK',\n",
       " 'UNK',\n",
       " 'UNK',\n",
       " 'UNK',\n",
       " 'UNK',\n",
       " u\"?'\",\n",
       " 'UNK',\n",
       " 'UNK',\n",
       " u'was',\n",
       " 'UNK',\n",
       " u'in',\n",
       " 'UNK',\n",
       " 'UNK',\n",
       " u'mind',\n",
       " 'UNK',\n",
       " 'UNK',\n",
       " 'UNK',\n",
       " 'UNK',\n",
       " 'UNK',\n",
       " 'UNK',\n",
       " u',']"
      ]
     },
     "execution_count": 105,
     "metadata": {},
     "output_type": "execute_result"
    }
   ],
   "source": [
    "alice2[:100]"
   ]
  },
  {
   "cell_type": "code",
   "execution_count": 106,
   "metadata": {},
   "outputs": [
    {
     "data": {
      "text/plain": [
       "1001"
      ]
     },
     "execution_count": 106,
     "metadata": {},
     "output_type": "execute_result"
    }
   ],
   "source": [
    "len(set(alice2))"
   ]
  },
  {
   "cell_type": "code",
   "execution_count": 107,
   "metadata": {},
   "outputs": [],
   "source": [
    "counts = nltk.defaultdict(int)"
   ]
  },
  {
   "cell_type": "code",
   "execution_count": 108,
   "metadata": {},
   "outputs": [],
   "source": [
    "for (word, tag) in brown.tagged_words(categories='news'):\n",
    "    counts[tag] += 1"
   ]
  },
  {
   "cell_type": "code",
   "execution_count": 109,
   "metadata": {},
   "outputs": [
    {
     "data": {
      "text/plain": [
       "0"
      ]
     },
     "execution_count": 109,
     "metadata": {},
     "output_type": "execute_result"
    }
   ],
   "source": [
    "counts['N']"
   ]
  },
  {
   "cell_type": "code",
   "execution_count": 111,
   "metadata": {},
   "outputs": [
    {
     "data": {
      "text/plain": [
       "[u'BE',\n",
       " u'BEZ-HL',\n",
       " u'NP$',\n",
       " u'WQL',\n",
       " u'AT-TL',\n",
       " u'BEDZ*',\n",
       " u'WDT',\n",
       " u'JJ',\n",
       " u'NR-HL',\n",
       " u'AP$',\n",
       " u'RP',\n",
       " u'WPS+BEZ',\n",
       " u'JJ-NC',\n",
       " u'(',\n",
       " u'PPSS+BER',\n",
       " u',',\n",
       " u'VBN-TL-HL',\n",
       " u'HVD-HL',\n",
       " u'PPSS+BEM',\n",
       " u'NPS-HL',\n",
       " u'RB',\n",
       " u'FW-PP$-NC',\n",
       " u'JJ-HL',\n",
       " u'NNS',\n",
       " u'WRB',\n",
       " u'MD-TL',\n",
       " u'NN-NC',\n",
       " u'DOD*',\n",
       " u'NN$',\n",
       " u'PPLS',\n",
       " u')-HL',\n",
       " u'BEZ*',\n",
       " u'RB-HL',\n",
       " u'NNS$',\n",
       " u'NPS-TL',\n",
       " u'NNS-HL',\n",
       " u'FW-IN+NN-TL',\n",
       " u'--',\n",
       " u'BER-TL',\n",
       " u'OD',\n",
       " u'PP$$',\n",
       " u'CC-TL',\n",
       " u'FW-NN-TL',\n",
       " u'NP-TL-HL',\n",
       " u'AP-TL',\n",
       " u'PPSS+MD',\n",
       " u'FW-JJ',\n",
       " u'FW-DT',\n",
       " u'BER*',\n",
       " u'FW-WDT',\n",
       " u'NPS',\n",
       " u'DTI',\n",
       " u'BEN',\n",
       " u'BEM',\n",
       " u'EX+BEZ',\n",
       " u'HV',\n",
       " u'BEG',\n",
       " u'BED',\n",
       " u'HVD',\n",
       " u'BEZ',\n",
       " u'DTX',\n",
       " u'FW-VB-NC',\n",
       " u'VBZ',\n",
       " u'DTS',\n",
       " u'RB-TL',\n",
       " u'VB-TL',\n",
       " u'NNS-TL',\n",
       " u'FW-CC',\n",
       " u'CS-HL',\n",
       " u'NP$-TL',\n",
       " u'FW-CD',\n",
       " u'ABN-HL',\n",
       " u'IN-HL',\n",
       " u'JJT-HL',\n",
       " u'BED*',\n",
       " u'BEDZ',\n",
       " u'NN-TL-HL',\n",
       " u'PN',\n",
       " u'JJR-HL',\n",
       " u'FW-AT-TL',\n",
       " u'PPSS+HVD',\n",
       " u'VBD-HL',\n",
       " u'MD-HL',\n",
       " u'NNS-TL-HL',\n",
       " u'DTI-HL',\n",
       " u'EX',\n",
       " u'VBN-HL',\n",
       " u'NNS$-HL',\n",
       " u'PPSS-HL',\n",
       " u'MD',\n",
       " u'BE-HL',\n",
       " u'TO-TL',\n",
       " u'NN-HL',\n",
       " u'VBZ-HL',\n",
       " u'NR$-TL',\n",
       " u'DT$',\n",
       " u'WP$',\n",
       " 'N',\n",
       " u'MD+HV',\n",
       " u'TO-HL',\n",
       " u'PPS+BEZ',\n",
       " u'DT-HL',\n",
       " u'CD$',\n",
       " u'VBG',\n",
       " u'VBD',\n",
       " u'VBN-TL',\n",
       " u'DOZ*',\n",
       " u'VBN',\n",
       " u'DOD',\n",
       " u'UH-TL',\n",
       " u'DOZ',\n",
       " u'NR-TL',\n",
       " u'AP-HL',\n",
       " u'AT-HL',\n",
       " u'.',\n",
       " u'FW-AT',\n",
       " u'NN',\n",
       " u'(-HL',\n",
       " u'MD*-HL',\n",
       " u'*',\n",
       " u'WPS',\n",
       " u'WPO',\n",
       " u'FW-NNS',\n",
       " u'NP',\n",
       " u'JJR-NC',\n",
       " u'NR',\n",
       " u':',\n",
       " u'BER-HL',\n",
       " u'MD*',\n",
       " u'``',\n",
       " u':-HL',\n",
       " u'RP-HL',\n",
       " u'CC',\n",
       " u'PP$-TL',\n",
       " u'WDT+BEZ',\n",
       " u'CD-HL',\n",
       " u'NPS$-TL',\n",
       " u'CD',\n",
       " u'DT+BEZ',\n",
       " u',-HL',\n",
       " u'OD-HL',\n",
       " u'PPS+MD',\n",
       " u'CS',\n",
       " u'NN$-HL',\n",
       " u'NP-TL',\n",
       " u'QL-TL',\n",
       " u'DO*',\n",
       " u'PPS+BEZ-HL',\n",
       " u'VB-HL',\n",
       " u'DO-HL',\n",
       " u'HVN',\n",
       " u'JJT',\n",
       " u'JJS',\n",
       " u'JJR',\n",
       " u'HVG',\n",
       " u'HVZ',\n",
       " u'PN+HVZ',\n",
       " u'NNS$-TL',\n",
       " u'CC-HL',\n",
       " u'JJ-TL',\n",
       " u'HVZ*',\n",
       " u'VBG-TL',\n",
       " u'DO',\n",
       " u'FW-JJ-TL',\n",
       " u'FW-*',\n",
       " u'NP+BEZ',\n",
       " u'NP-HL',\n",
       " u'NPS$',\n",
       " u'NN-TL',\n",
       " u'PPSS',\n",
       " u'NR$',\n",
       " u\"''\",\n",
       " u'BER',\n",
       " u'FW-VB',\n",
       " u'PN-HL',\n",
       " u'CD-TL',\n",
       " u'BEDZ-HL',\n",
       " u'DT',\n",
       " u'VBD-TL',\n",
       " u'PN$',\n",
       " u'VB+PPO',\n",
       " u')',\n",
       " u'VBG-HL',\n",
       " u'PPO',\n",
       " u'PPL',\n",
       " u'PPS',\n",
       " u'TO',\n",
       " u'RB$',\n",
       " u'FW-IN+NN',\n",
       " u'UH',\n",
       " u'VB',\n",
       " u'OD-TL',\n",
       " u'FW-IN',\n",
       " u'PP$',\n",
       " u'RBT',\n",
       " u'ABL',\n",
       " u'RBR',\n",
       " u'ABN',\n",
       " u'AP',\n",
       " u'PPSS+HV',\n",
       " u'AT',\n",
       " u'JJS-TL',\n",
       " u'IN',\n",
       " u'ABX',\n",
       " u'*-HL',\n",
       " u'FW-AT-HL',\n",
       " u'HVD*',\n",
       " u\"'\",\n",
       " u'JJR-TL',\n",
       " u'RB+BEZ',\n",
       " u'NN$-TL',\n",
       " u'FW-IN-TL',\n",
       " u'QLP',\n",
       " u'IN-TL',\n",
       " u'FW-NN',\n",
       " u'FW-IN+AT-TL',\n",
       " u'PPS+HVZ',\n",
       " u'QL',\n",
       " u'.-HL']"
      ]
     },
     "execution_count": 111,
     "metadata": {},
     "output_type": "execute_result"
    }
   ],
   "source": [
    "list(counts)"
   ]
  },
  {
   "cell_type": "code",
   "execution_count": null,
   "metadata": {},
   "outputs": [],
   "source": []
  }
 ],
 "metadata": {
  "kernelspec": {
   "display_name": "Python 2",
   "language": "python",
   "name": "python2"
  },
  "language_info": {
   "codemirror_mode": {
    "name": "ipython",
    "version": 2
   },
   "file_extension": ".py",
   "mimetype": "text/x-python",
   "name": "python",
   "nbconvert_exporter": "python",
   "pygments_lexer": "ipython2",
   "version": "2.7.15"
  }
 },
 "nbformat": 4,
 "nbformat_minor": 2
}
