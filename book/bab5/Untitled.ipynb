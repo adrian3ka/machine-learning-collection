{
 "cells": [
  {
   "cell_type": "code",
   "execution_count": 10,
   "metadata": {},
   "outputs": [
    {
     "name": "stdout",
     "output_type": "stream",
     "text": [
      "<open file 't2.txt', mode 'rb' at 0x7f14d463ff60>\n"
     ]
    },
    {
     "data": {
      "text/plain": [
       "nltk.tag.sequential.BigramTagger"
      ]
     },
     "execution_count": 10,
     "metadata": {},
     "output_type": "execute_result"
    }
   ],
   "source": [
    "from cPickle import load\n",
    "input = open('t2.txt', 'rb')\n",
    "print input\n",
    "tagger = load(input)\n",
    "input.close()\n",
    "\n",
    "type(tagger)"
   ]
  },
  {
   "cell_type": "code",
   "execution_count": 3,
   "metadata": {},
   "outputs": [
    {
     "data": {
      "text/plain": [
       "[('The', u'AT'),\n",
       " (\"board's\", u'NN$'),\n",
       " ('action', 'NN'),\n",
       " ('shows', u'NNS'),\n",
       " ('what', u'WDT'),\n",
       " ('free', u'JJ'),\n",
       " ('enterprise', 'NN'),\n",
       " ('is', u'BEZ'),\n",
       " ('up', u'RP'),\n",
       " ('against', u'IN'),\n",
       " ('in', u'IN'),\n",
       " ('our', u'PP$'),\n",
       " ('complex', u'JJ'),\n",
       " ('maze', 'NN'),\n",
       " ('of', u'IN'),\n",
       " ('regulatory', 'NN'),\n",
       " ('laws', u'NNS'),\n",
       " ('.', u'.')]"
      ]
     },
     "execution_count": 3,
     "metadata": {},
     "output_type": "execute_result"
    }
   ],
   "source": [
    "text = \"\"\"The board's action shows what free enterprise\n",
    "is up against in our complex maze of regulatory laws .\"\"\"\n",
    "tokens = text.split()\n",
    "tagger.tag(tokens)"
   ]
  },
  {
   "cell_type": "code",
   "execution_count": null,
   "metadata": {},
   "outputs": [],
   "source": []
  }
 ],
 "metadata": {
  "kernelspec": {
   "display_name": "Python 2",
   "language": "python",
   "name": "python2"
  },
  "language_info": {
   "codemirror_mode": {
    "name": "ipython",
    "version": 2
   },
   "file_extension": ".py",
   "mimetype": "text/x-python",
   "name": "python",
   "nbconvert_exporter": "python",
   "pygments_lexer": "ipython2",
   "version": "2.7.15"
  }
 },
 "nbformat": 4,
 "nbformat_minor": 2
}
