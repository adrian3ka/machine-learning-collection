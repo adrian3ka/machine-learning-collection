{
 "cells": [
  {
   "cell_type": "markdown",
   "metadata": {},
   "source": [
    "# 6 - 1 Text Classification"
   ]
  },
  {
   "cell_type": "markdown",
   "metadata": {},
   "source": [
    "## Gender Identification\n"
   ]
  },
  {
   "cell_type": "code",
   "execution_count": 1,
   "metadata": {},
   "outputs": [],
   "source": [
    "def gender_features(word):\n",
    "    return {'last_letter': word[-1]}"
   ]
  },
  {
   "cell_type": "code",
   "execution_count": 2,
   "metadata": {},
   "outputs": [
    {
     "data": {
      "text/plain": [
       "{'last_letter': 'k'}"
      ]
     },
     "execution_count": 2,
     "metadata": {},
     "output_type": "execute_result"
    }
   ],
   "source": [
    "gender_features('Shrek')"
   ]
  },
  {
   "cell_type": "code",
   "execution_count": 22,
   "metadata": {},
   "outputs": [],
   "source": [
    "from nltk.corpus import names\n",
    "from nltk.classify import apply_features\n",
    "import random\n",
    "import nltk"
   ]
  },
  {
   "cell_type": "code",
   "execution_count": 23,
   "metadata": {},
   "outputs": [],
   "source": [
    "names = ([(name, 'male') for name in names.words('male.txt')] +\n",
    "         [(name, 'female') for name in names.words('female.txt')])\n",
    "random.shuffle(names)"
   ]
  },
  {
   "cell_type": "code",
   "execution_count": 24,
   "metadata": {},
   "outputs": [],
   "source": [
    "featuresets = [(gender_features(n), g) for (n,g) in names]\n",
    "train_set, test_set = featuresets[500:], featuresets[:500]\n",
    "classifier = nltk.NaiveBayesClassifier.train(train_set)"
   ]
  },
  {
   "cell_type": "code",
   "execution_count": 25,
   "metadata": {},
   "outputs": [
    {
     "data": {
      "text/plain": [
       "'female'"
      ]
     },
     "execution_count": 25,
     "metadata": {},
     "output_type": "execute_result"
    }
   ],
   "source": [
    "classifier.classify(gender_features('Agnesia'))"
   ]
  },
  {
   "cell_type": "code",
   "execution_count": 26,
   "metadata": {},
   "outputs": [
    {
     "name": "stdout",
     "output_type": "stream",
     "text": [
      "0.804\n"
     ]
    }
   ],
   "source": [
    "print nltk.classify.accuracy(classifier, test_set)"
   ]
  },
  {
   "cell_type": "code",
   "execution_count": 27,
   "metadata": {},
   "outputs": [
    {
     "name": "stdout",
     "output_type": "stream",
     "text": [
      "Most Informative Features\n",
      "             last_letter = u'a'           female : male   =     38.2 : 1.0\n",
      "             last_letter = u'k'             male : female =     30.4 : 1.0\n",
      "             last_letter = u'v'             male : female =     18.7 : 1.0\n",
      "             last_letter = u'f'             male : female =     15.3 : 1.0\n",
      "             last_letter = u'p'             male : female =     11.9 : 1.0\n",
      "             last_letter = u'd'             male : female =      9.7 : 1.0\n",
      "             last_letter = u'm'             male : female =      9.1 : 1.0\n",
      "             last_letter = u'o'             male : female =      8.2 : 1.0\n",
      "             last_letter = u'r'             male : female =      6.8 : 1.0\n",
      "             last_letter = u'w'             male : female =      6.2 : 1.0\n",
      "             last_letter = u'g'             male : female =      5.9 : 1.0\n",
      "             last_letter = u'u'             male : female =      4.3 : 1.0\n",
      "             last_letter = u'b'             male : female =      4.3 : 1.0\n",
      "             last_letter = u's'             male : female =      4.0 : 1.0\n",
      "             last_letter = u'z'             male : female =      4.0 : 1.0\n",
      "             last_letter = u'j'             male : female =      4.0 : 1.0\n",
      "             last_letter = u't'             male : female =      3.9 : 1.0\n",
      "             last_letter = u'i'           female : male   =      3.8 : 1.0\n",
      "             last_letter = u'n'             male : female =      2.0 : 1.0\n",
      "             last_letter = u'e'           female : male   =      1.8 : 1.0\n",
      "             last_letter = u'l'             male : female =      1.7 : 1.0\n",
      "             last_letter = u'x'             male : female =      1.7 : 1.0\n",
      "             last_letter = u'h'             male : female =      1.5 : 1.0\n",
      "             last_letter = u'y'             male : female =      1.3 : 1.0\n"
     ]
    }
   ],
   "source": [
    "classifier.show_most_informative_features(99)"
   ]
  },
  {
   "cell_type": "code",
   "execution_count": 29,
   "metadata": {},
   "outputs": [
    {
     "data": {
      "text/plain": [
       "[({'last_letter': u'a'}, 'female'), ({'last_letter': u'l'}, 'male'), ...]"
      ]
     },
     "execution_count": 29,
     "metadata": {},
     "output_type": "execute_result"
    }
   ],
   "source": [
    "train_set = apply_features(gender_features, names[500:])\n",
    "test_set = apply_features(gender_features, names[:500])"
   ]
  },
  {
   "cell_type": "code",
   "execution_count": 30,
   "metadata": {},
   "outputs": [
    {
     "name": "stdout",
     "output_type": "stream",
     "text": [
      "[({'last_letter': u'a'}, 'female'), ({'last_letter': u'l'}, 'male'), ...]\n",
      "[({'last_letter': u'h'}, 'female'), ({'last_letter': u'a'}, 'female'), ...]\n"
     ]
    }
   ],
   "source": [
    "print train_set\n",
    "print test_set"
   ]
  },
  {
   "cell_type": "markdown",
   "metadata": {},
   "source": [
    "#### improvement"
   ]
  },
  {
   "cell_type": "code",
   "execution_count": 55,
   "metadata": {},
   "outputs": [],
   "source": [
    "def vowel_count(word):\n",
    "    counts = 0\n",
    "    for w in word:\n",
    "        if ( w == 'a' or w == 'i' or w == 'u' or w == 'e' or w == 'o'):\n",
    "            counts += 1\n",
    "    return counts"
   ]
  },
  {
   "cell_type": "code",
   "execution_count": 56,
   "metadata": {},
   "outputs": [],
   "source": [
    "def gender_features2(word):\n",
    "    vowel_counts = vowel_count(word)\n",
    "    return {'last_letter': word[-1], 'vowel_counts': vowel_counts}"
   ]
  },
  {
   "cell_type": "code",
   "execution_count": 57,
   "metadata": {},
   "outputs": [],
   "source": [
    "featuresets = [(gender_features2(n), g) for (n,g) in names]\n",
    "train_set, test_set = featuresets[500:], featuresets[:500]\n",
    "classifier2 = nltk.NaiveBayesClassifier.train(train_set)"
   ]
  },
  {
   "cell_type": "code",
   "execution_count": 58,
   "metadata": {},
   "outputs": [
    {
     "name": "stdout",
     "output_type": "stream",
     "text": [
      "0.776\n"
     ]
    }
   ],
   "source": [
    "print nltk.classify.accuracy(classifier2, test_set)"
   ]
  },
  {
   "cell_type": "code",
   "execution_count": 59,
   "metadata": {},
   "outputs": [
    {
     "name": "stdout",
     "output_type": "stream",
     "text": [
      "Most Informative Features\n",
      "             last_letter = u'a'           female : male   =     38.2 : 1.0\n",
      "             last_letter = u'k'             male : female =     30.4 : 1.0\n",
      "             last_letter = u'v'             male : female =     18.7 : 1.0\n",
      "             last_letter = u'f'             male : female =     15.3 : 1.0\n",
      "             last_letter = u'p'             male : female =     11.9 : 1.0\n",
      "             last_letter = u'd'             male : female =      9.7 : 1.0\n",
      "             last_letter = u'm'             male : female =      9.1 : 1.0\n",
      "             last_letter = u'o'             male : female =      8.2 : 1.0\n",
      "             last_letter = u'r'             male : female =      6.8 : 1.0\n",
      "             last_letter = u'w'             male : female =      6.2 : 1.0\n",
      "             last_letter = u'g'             male : female =      5.9 : 1.0\n",
      "             last_letter = u'u'             male : female =      4.3 : 1.0\n",
      "             last_letter = u'b'             male : female =      4.3 : 1.0\n",
      "             last_letter = u's'             male : female =      4.0 : 1.0\n",
      "             last_letter = u'z'             male : female =      4.0 : 1.0\n",
      "             last_letter = u'j'             male : female =      4.0 : 1.0\n",
      "             last_letter = u't'             male : female =      3.9 : 1.0\n",
      "             last_letter = u'i'           female : male   =      3.8 : 1.0\n",
      "            vowel_counts = 4              female : male   =      2.8 : 1.0\n",
      "             last_letter = u'n'             male : female =      2.0 : 1.0\n",
      "            vowel_counts = 1                male : female =      1.8 : 1.0\n",
      "             last_letter = u'e'           female : male   =      1.8 : 1.0\n",
      "            vowel_counts = 5              female : male   =      1.8 : 1.0\n",
      "             last_letter = u'l'             male : female =      1.7 : 1.0\n",
      "             last_letter = u'x'             male : female =      1.7 : 1.0\n",
      "            vowel_counts = 3              female : male   =      1.7 : 1.0\n",
      "             last_letter = u'h'             male : female =      1.5 : 1.0\n",
      "            vowel_counts = 2                male : female =      1.3 : 1.0\n",
      "             last_letter = u'y'             male : female =      1.3 : 1.0\n",
      "            vowel_counts = 0                male : female =      1.1 : 1.0\n"
     ]
    }
   ],
   "source": [
    "classifier2.show_most_informative_features(99)"
   ]
  },
  {
   "cell_type": "markdown",
   "metadata": {},
   "source": [
    "## Choosing the Right Features"
   ]
  },
  {
   "cell_type": "code",
   "execution_count": null,
   "metadata": {},
   "outputs": [],
   "source": []
  }
 ],
 "metadata": {
  "kernelspec": {
   "display_name": "Python 2",
   "language": "python",
   "name": "python2"
  },
  "language_info": {
   "codemirror_mode": {
    "name": "ipython",
    "version": 2
   },
   "file_extension": ".py",
   "mimetype": "text/x-python",
   "name": "python",
   "nbconvert_exporter": "python",
   "pygments_lexer": "ipython2",
   "version": "2.7.15"
  }
 },
 "nbformat": 4,
 "nbformat_minor": 2
}
