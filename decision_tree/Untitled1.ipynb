{
 "cells": [
  {
   "cell_type": "code",
   "execution_count": 1,
   "metadata": {},
   "outputs": [
    {
     "ename": "IndentationError",
     "evalue": "unexpected indent (<ipython-input-1-11137c7d5dd2>, line 2)",
     "output_type": "error",
     "traceback": [
      "\u001b[0;36m  File \u001b[0;32m\"<ipython-input-1-11137c7d5dd2>\"\u001b[0;36m, line \u001b[0;32m2\u001b[0m\n\u001b[0;31m    from sklearn.datasets import load_iris\u001b[0m\n\u001b[0m    ^\u001b[0m\n\u001b[0;31mIndentationError\u001b[0m\u001b[0;31m:\u001b[0m unexpected indent\n"
     ]
    }
   ],
   "source": [
    "import pydotplus\n",
    " from sklearn.datasets import load_iris\n",
    " from sklearn import tree\n",
    " from IPython.display import Image, display\n",
    "__author__ = \"Mayur Kulkarni <mayur.kulkarni@xoriant.com>\"\n",
    " \n",
    " def load_data_set():\n",
    "    \"\"\"\n",
    "    Loads the iris data set\n",
    " \n",
    "    :return:        data set instance\n",
    "    \"\"\"\n",
    "   iris = load_iris()\n",
    "    return iris\n",
    " \n",
    " def train_model(iris):\n",
    "    \"\"\"\n",
    "    Train decision tree classifier\n",
    " \n",
    "    :param iris:    iris data set instance\n",
    "    :return:        classifier instance\n",
    "    \"\"\"\n",
    "   clf = tree.DecisionTreeClassifier()\n",
    "    clf = clf.fit(iris.data, iris.target)\n",
    "    return clf\n",
    "  \n",
    " def display_image(clf, iris):\n",
    "    \"\"\"\n",
    "    Displays the decision tree image\n",
    " \n",
    "    :param clf:     classifier instance\n",
    "    :param iris:    iris data set instance\n",
    "    \"\"\"\n",
    "   dot_data = tree.export_graphviz(clf, out_file=None,\n",
    "                                    feature_names=iris.feature_names,\n",
    "                                    class_names=iris.target_names,\n",
    "                                    filled=True, rounded=True)\n",
    " \n",
    "    graph = pydotplus.graph_from_dot_data(dot_data)\n",
    "    display(Image(data=graph.create_png()))\n",
    " \n",
    " if __name__ == '__main__':\n",
    "    iris_data = load_iris()\n",
    "    decision_tree_classifier = train_model(iris_data)\n",
    "    display_image(clf=decision_tree_classifier, iris=iris_data)"
   ]
  },
  {
   "cell_type": "code",
   "execution_count": 2,
   "metadata": {},
   "outputs": [
    {
     "ename": "ImportError",
     "evalue": "No module named pyd",
     "output_type": "error",
     "traceback": [
      "\u001b[0;31m---------------------------------------------------------------------------\u001b[0m",
      "\u001b[0;31mImportError\u001b[0m                               Traceback (most recent call last)",
      "\u001b[0;32m<ipython-input-2-cd199c9c6a86>\u001b[0m in \u001b[0;36m<module>\u001b[0;34m()\u001b[0m\n\u001b[0;32m----> 1\u001b[0;31m \u001b[0;32mimport\u001b[0m \u001b[0mpyd\u001b[0m\u001b[0;34m\u001b[0m\u001b[0m\n\u001b[0m",
      "\u001b[0;31mImportError\u001b[0m: No module named pyd"
     ]
    }
   ],
   "source": [
    "import pyd"
   ]
  },
  {
   "cell_type": "code",
   "execution_count": null,
   "metadata": {},
   "outputs": [],
   "source": []
  }
 ],
 "metadata": {
  "kernelspec": {
   "display_name": "Python 2",
   "language": "python",
   "name": "python2"
  },
  "language_info": {
   "codemirror_mode": {
    "name": "ipython",
    "version": 2
   },
   "file_extension": ".py",
   "mimetype": "text/x-python",
   "name": "python",
   "nbconvert_exporter": "python",
   "pygments_lexer": "ipython2",
   "version": "2.7.15"
  }
 },
 "nbformat": 4,
 "nbformat_minor": 2
}
