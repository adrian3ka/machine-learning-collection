{
 "cells": [
  {
   "cell_type": "code",
   "execution_count": 79,
   "metadata": {},
   "outputs": [],
   "source": [
    "from nltk.corpus import brown \n",
    "import nltk \n",
    "from nltk.tokenize import sent_tokenize, word_tokenize"
   ]
  },
  {
   "cell_type": "code",
   "execution_count": 84,
   "metadata": {},
   "outputs": [],
   "source": [
    "class TextTagger:\n",
    "    bigram_tagger = nltk.tag.sequential.BigramTagger\n",
    "    def __init__(self, fileName):\n",
    "        patterns = \"\"\n",
    "        sent_tagged = []\n",
    "        patterns = [\n",
    "            (r'meng[aiueokghx].+$', 'VB'),\n",
    "            (r'mem[bpf]([a-df-z][a-qs-z]|er).+$', 'VB'),\n",
    "            (r'me[lnryw](a-df-z).+$', 'VB'),\n",
    "            (r'men[dtcjys].+$', 'VB'),\n",
    "            (r'di.+(kan|i)$', 'VB'),\n",
    "            (r'per.+(kan|i|.)$', 'VB'),\n",
    "            (r'ber.+(kan|an|.)$', 'VB'),\n",
    "            (r'ter.+(kan|i|.)$', 'VB'),\n",
    "            (r'(meng|me|mem|men).+(kan|i)$', 'VB'),\n",
    "            (r'ke.+(i|an)$', 'VB'),\n",
    "            (r'se(baik|benar|tidak|layak|lekas|sungguh|yogya|belum|pantas|balik|lanjut)(nya)$', 'RB'),\n",
    "            (r'(sekadar|amat|bahkan|cukup|jua|justru|kembali|kurang|malah|mau|nian|niscaya|pasti|patut|perlu|lagi|pernah|pun|sekali|selalu|senantiasa|sering|sungguh|tentu|terus|lebih|hampir|jarang|juga|kerap|makin|memang|nyaris|paling|pula|saja|saling|sangat|segera|semakin|serba|entah|hanya|kadangkala|)$', 'RB'),\n",
    "            (r'(akan|antara|bagi|buat|dari|dengan|di|ke|kecuali|lepas|oleh|pada|per|peri|seperti|tanpa|tentang|untuk)$', 'IN'),\n",
    "            (r'(dan|serta|atau|tetapi|melainkan|padahal|sedangkan)$','CC'),\n",
    "            (r'(sejak|semenjak|sedari|sewaktu|ketika|tatkala|sementara|begitu|seraya|selagi|selama|serta|sambil|demi|setelah|sesudah|sebelum|sehabis|selesai|seusai|hingga|sampai|jika|kalau|jikalau|asal)$','SC'),\n",
    "        ]\n",
    "        for f in fileName:\n",
    "            print \"Learning >> \" + f\n",
    "            file = open(f, \"r\") \n",
    "            sent = file.read()\n",
    "            data_sents = [nltk.tag.str2tuple(t) for t in sent.split()]\n",
    "            temp_sent = []\n",
    "            stop_word = [\".\",\"!\",\"?\"]\n",
    "            for data in data_sents:\n",
    "                temp_sent.append(data)\n",
    "                if data[0] in stop_word:\n",
    "                    sent_tagged.append(temp_sent)\n",
    "                    temp_sent = []\n",
    "                \n",
    "        default_tagger = nltk.DefaultTagger('NN')\n",
    "        regexp_tagger = nltk.RegexpTagger(patterns, backoff= default_tagger)\n",
    "        unigram_tagger = nltk.UnigramTagger(sent_tagged, backoff=regexp_tagger)\n",
    "        self.bigram_tagger = nltk.BigramTagger(sent_tagged, backoff=unigram_tagger)\n",
    "\n",
    "    def getTagger(self,text):\n",
    "        word_tokenize_list = word_tokenize(text)\n",
    "        return self.bigram_tagger.tag(word_tokenize_list)"
   ]
  }
 ],
 "metadata": {
  "kernelspec": {
   "display_name": "Python 2",
   "language": "python",
   "name": "python2"
  },
  "language_info": {
   "codemirror_mode": {
    "name": "ipython",
    "version": 2
   },
   "file_extension": ".py",
   "mimetype": "text/x-python",
   "name": "python",
   "nbconvert_exporter": "python",
   "pygments_lexer": "ipython2",
   "version": "2.7.15"
  }
 },
 "nbformat": 4,
 "nbformat_minor": 2
}
