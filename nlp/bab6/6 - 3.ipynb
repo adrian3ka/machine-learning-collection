{
 "cells": [
  {
   "cell_type": "markdown",
   "metadata": {},
   "source": [
    "# 6.3 Evaluation"
   ]
  },
  {
   "cell_type": "code",
   "execution_count": 6,
   "metadata": {},
   "outputs": [],
   "source": [
    "import random\n",
    "import nltk\n",
    "from nltk.corpus import brown"
   ]
  },
  {
   "cell_type": "code",
   "execution_count": 7,
   "metadata": {},
   "outputs": [],
   "source": [
    "default_tagger = nltk.DefaultTagger('NOUN')"
   ]
  },
  {
   "cell_type": "code",
   "execution_count": 8,
   "metadata": {},
   "outputs": [],
   "source": [
    "gold = tag_list(brown.tagged_sents(categories='editorial',tagset='universal'))\n",
    "test = tag_list(apply_tagger(default_tagger, brown.tagged_sents(categories='editorial',tagset='universal')))"
   ]
  },
  {
   "cell_type": "code",
   "execution_count": 40,
   "metadata": {},
   "outputs": [
    {
     "name": "stdout",
     "output_type": "stream",
     "text": [
      "     |                             C           N           P           V       |\n",
      "     |           A     A     A     O     D     O     N     R     P     E       |\n",
      "     |           D     D     D     N     E     U     U     O     R     R       |\n",
      "     |     .     J     P     V     J     T     N     M     N     T     B     X |\n",
      "-----+-------------------------------------------------------------------------+\n",
      "   . |    <.>    .     .     .     .     .  7099     .     .     .     .     . |\n",
      " ADJ |     .    <.>    .     .     .     .  4958     .     .     .     .     . |\n",
      " ADP |     .     .    <.>    .     .     .  7613     .     .     .     .     . |\n",
      " ADV |     .     .     .    <.>    .     .  2997     .     .     .     .     . |\n",
      "CONJ |     .     .     .     .    <.>    .  1862     .     .     .     .     . |\n",
      " DET |     .     .     .     .     .    <.> 7416     .     .     .     .     . |\n",
      "NOUN |     .     .     .     .     .     .<15170>    .     .     .     .     . |\n",
      " NUM |     .     .     .     .     .     .   722    <.>    .     .     .     . |\n",
      "PRON |     .     .     .     .     .     .  2291     .    <.>    .     .     . |\n",
      " PRT |     .     .     .     .     .     .  1536     .     .    <.>    .     . |\n",
      "VERB |     .     .     .     .     .     .  9896     .     .     .    <.>    . |\n",
      "   X |     .     .     .     .     .     .    44     .     .     .     .    <.>|\n",
      "-----+-------------------------------------------------------------------------+\n",
      "(row = reference; col = test)\n",
      "\n"
     ]
    }
   ],
   "source": [
    "print cm"
   ]
  },
  {
   "cell_type": "code",
   "execution_count": null,
   "metadata": {},
   "outputs": [],
   "source": []
  }
 ],
 "metadata": {
  "kernelspec": {
   "display_name": "Python 2",
   "language": "python",
   "name": "python2"
  },
  "language_info": {
   "codemirror_mode": {
    "name": "ipython",
    "version": 2
   },
   "file_extension": ".py",
   "mimetype": "text/x-python",
   "name": "python",
   "nbconvert_exporter": "python",
   "pygments_lexer": "ipython2",
   "version": "2.7.15"
  }
 },
 "nbformat": 4,
 "nbformat_minor": 2
}
