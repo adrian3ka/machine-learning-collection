{
 "cells": [
  {
   "cell_type": "code",
   "execution_count": 21,
   "metadata": {},
   "outputs": [],
   "source": [
    "from nltk.metrics import ConfusionMatrix\n",
    "ref    = 'DET NN VB DET JJ NN NN IN DET NN'.split()\n",
    "tagged = 'DET VB VB DET NN NN NN IN DET NN'.split()\n",
    "cm = ConfusionMatrix(ref, tagged)"
   ]
  },
  {
   "cell_type": "markdown",
   "metadata": {},
   "source": [
    "##### inside <> are true positive"
   ]
  },
  {
   "cell_type": "code",
   "execution_count": 22,
   "metadata": {},
   "outputs": [
    {
     "name": "stdout",
     "output_type": "stream",
     "text": [
      "    | D         |\n",
      "    | E I J N V |\n",
      "    | T N J N B |\n",
      "----+-----------+\n",
      "DET |<3>. . . . |\n",
      " IN | .<1>. . . |\n",
      " JJ | . .<.>1 . |\n",
      " NN | . . .<3>1 |\n",
      " VB | . . . .<1>|\n",
      "----+-----------+\n",
      "(row = reference; col = test)\n",
      "\n"
     ]
    }
   ],
   "source": [
    "print cm"
   ]
  },
  {
   "cell_type": "code",
   "execution_count": 16,
   "metadata": {},
   "outputs": [],
   "source": [
    "kumpulan_ikan = (\"S S S S S ~S S ~S S ~S \" +\n",
    "                 \"~S S S S S ~S S ~S S S \" +\n",
    "                 \"S ~S S ~S S S S S S S \").split()\n",
    "tebakan_ikan  = (\"S S S S S ~S S S S S \" +\n",
    "                 \"~S S ~S S S S S S S S \" +\n",
    "                 \"S ~S S ~S S S S S S S \").split()"
   ]
  },
  {
   "cell_type": "code",
   "execution_count": 17,
   "metadata": {},
   "outputs": [],
   "source": [
    "cm_ikan = ConfusionMatrix(kumpulan_ikan, tebakan_ikan)"
   ]
  },
  {
   "cell_type": "code",
   "execution_count": 18,
   "metadata": {},
   "outputs": [
    {
     "name": "stdout",
     "output_type": "stream",
     "text": [
      "   |     ~ |\n",
      "   |  S  S |\n",
      "---+-------+\n",
      " S |<21> 1 |\n",
      "~S |  4 <4>|\n",
      "---+-------+\n",
      "(row = reference; col = test)\n",
      "\n"
     ]
    }
   ],
   "source": [
    "print cm_ikan"
   ]
  },
  {
   "cell_type": "code",
   "execution_count": null,
   "metadata": {},
   "outputs": [],
   "source": []
  },
  {
   "cell_type": "code",
   "execution_count": null,
   "metadata": {},
   "outputs": [],
   "source": []
  }
 ],
 "metadata": {
  "kernelspec": {
   "display_name": "Python 2",
   "language": "python",
   "name": "python2"
  },
  "language_info": {
   "codemirror_mode": {
    "name": "ipython",
    "version": 2
   },
   "file_extension": ".py",
   "mimetype": "text/x-python",
   "name": "python",
   "nbconvert_exporter": "python",
   "pygments_lexer": "ipython2",
   "version": "2.7.15"
  }
 },
 "nbformat": 4,
 "nbformat_minor": 2
}
