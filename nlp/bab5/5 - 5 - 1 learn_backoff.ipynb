{
 "cells": [
  {
   "cell_type": "code",
   "execution_count": 2,
   "metadata": {},
   "outputs": [],
   "source": [
    "from nltk.corpus import brown\n",
    "import nltk"
   ]
  },
  {
   "cell_type": "code",
   "execution_count": 5,
   "metadata": {},
   "outputs": [
    {
     "data": {
      "text/plain": [
       "[(u'The', u'AT'),\n",
       " (u'jury', u'NN'),\n",
       " (u'further', u'RBR'),\n",
       " (u'said', u'VBD'),\n",
       " (u'in', u'IN'),\n",
       " (u'term-end', u'NN'),\n",
       " (u'presentments', u'NNS'),\n",
       " (u'that', u'CS'),\n",
       " (u'the', u'AT'),\n",
       " (u'City', u'NN-TL'),\n",
       " (u'Executive', u'JJ-TL'),\n",
       " (u'Committee', u'NN-TL'),\n",
       " (u',', u','),\n",
       " (u'which', u'WDT'),\n",
       " (u'had', u'HVD'),\n",
       " (u'over-all', u'JJ'),\n",
       " (u'charge', u'NN'),\n",
       " (u'of', u'IN'),\n",
       " (u'the', u'AT'),\n",
       " (u'election', u'NN'),\n",
       " (u',', u','),\n",
       " (u'``', u'``'),\n",
       " (u'deserves', u'VBZ'),\n",
       " (u'the', u'AT'),\n",
       " (u'praise', u'NN'),\n",
       " (u'and', u'CC'),\n",
       " (u'thanks', u'NNS'),\n",
       " (u'of', u'IN'),\n",
       " (u'the', u'AT'),\n",
       " (u'City', u'NN-TL'),\n",
       " (u'of', u'IN-TL'),\n",
       " (u'Atlanta', u'NP-TL'),\n",
       " (u\"''\", u\"''\"),\n",
       " (u'for', u'IN'),\n",
       " (u'the', u'AT'),\n",
       " (u'manner', u'NN'),\n",
       " (u'in', u'IN'),\n",
       " (u'which', u'WDT'),\n",
       " (u'the', u'AT'),\n",
       " (u'election', u'NN'),\n",
       " (u'was', u'BEDZ'),\n",
       " (u'conducted', u'VBN'),\n",
       " (u'.', u'.')]"
      ]
     },
     "execution_count": 5,
     "metadata": {},
     "output_type": "execute_result"
    }
   ],
   "source": [
    "brown_tagged_sents = brown.tagged_sents(categories='news')\n",
    "brown_tagged_sents[1]"
   ]
  },
  {
   "cell_type": "code",
   "execution_count": 4,
   "metadata": {},
   "outputs": [
    {
     "data": {
      "text/plain": [
       "[(u'Various', u'JJ'),\n",
       " (u'of', u'IN'),\n",
       " (u'the', u'AT'),\n",
       " (u'apartments', u'NNS'),\n",
       " (u'are', u'BER'),\n",
       " (u'of', u'IN'),\n",
       " (u'the', u'AT'),\n",
       " (u'terrace', 'NN'),\n",
       " (u'type', 'NN'),\n",
       " (u',', u','),\n",
       " (u'being', u'BEG'),\n",
       " (u'on', u'IN'),\n",
       " (u'the', u'AT'),\n",
       " (u'ground', 'NN'),\n",
       " (u'floor', 'NN'),\n",
       " (u'so', u'QL'),\n",
       " (u'that', u'CS'),\n",
       " (u'entrance', 'NN'),\n",
       " (u'is', u'BEZ'),\n",
       " (u'direct', u'JJ'),\n",
       " (u'.', u'.')]"
      ]
     },
     "execution_count": 4,
     "metadata": {},
     "output_type": "execute_result"
    }
   ],
   "source": [
    "brown_sents = brown.sents(categories='news')\n",
    "backoff_taggger = nltk.DefaultTagger(\"NN\");\n",
    "bigram_tagger = nltk.BigramTagger(brown_tagged_sents, backoff = backoff_taggger)\n",
    "unigram_tagger = nltk.UnigramTagger(brown_tagged_sents, backoff = backoff_taggger)\n",
    "unigram_tagger.tag(brown_sents[2007])"
   ]
  },
  {
   "cell_type": "code",
   "execution_count": 13,
   "metadata": {},
   "outputs": [
    {
     "data": {
      "text/plain": [
       "4160"
      ]
     },
     "execution_count": 13,
     "metadata": {},
     "output_type": "execute_result"
    }
   ],
   "source": [
    "size = int(len(brown_tagged_sents) * 0.9)\n",
    "size"
   ]
  },
  {
   "cell_type": "code",
   "execution_count": 14,
   "metadata": {},
   "outputs": [
    {
     "data": {
      "text/plain": [
       "0.8360410644871923"
      ]
     },
     "execution_count": 14,
     "metadata": {},
     "output_type": "execute_result"
    }
   ],
   "source": [
    "train_sents = brown_tagged_sents[:size]\n",
    "test_sents = brown_tagged_sents[size:]\n",
    "unigram_tagger = nltk.UnigramTagger(train_sents, backoff=backoff_taggger)\n",
    "unigram_tagger.evaluate(test_sents)"
   ]
  },
  {
   "cell_type": "code",
   "execution_count": 15,
   "metadata": {},
   "outputs": [
    {
     "data": {
      "text/plain": [
       "[[(u'But', u'CC'), (u'in', u'IN'), (u'all', u'ABN'), (u'its', u'PP$'), (u'175', u'CD'), (u'years', u'NNS'), (u',', u','), (u'not', u'*'), (u'a', u'AT'), (u'single', u'AP'), (u'Negro', u'NP'), (u'student', u'NN'), (u'has', u'HVZ'), (u'entered', u'VBN'), (u'its', u'PP$'), (u'classrooms', u'NNS'), (u'.', u'.')], [(u'Last', u'AP'), (u'week', u'NN'), (u'Federal', u'JJ-TL'), (u'District', u'NN-TL'), (u'Judge', u'NN-TL'), (u'William', u'NP'), (u'A.', u'NP'), (u'Bootle', u'NP'), (u'ordered', u'VBD'), (u'the', u'AT'), (u'university', u'NN'), (u'to', u'TO'), (u'admit', u'VB'), (u'immediately', u'RB'), (u'a', u'AT'), (u'``', u'``'), (u'qualified', u'VBN'), (u\"''\", u\"''\"), (u'Negro', u'NP'), (u'boy', u'NN'), (u'and', u'CC'), (u'girl', u'NN'), (u'.', u'.')], ...]"
      ]
     },
     "execution_count": 15,
     "metadata": {},
     "output_type": "execute_result"
    }
   ],
   "source": [
    "test_sents"
   ]
  },
  {
   "cell_type": "code",
   "execution_count": 16,
   "metadata": {},
   "outputs": [
    {
     "data": {
      "text/plain": [
       "[(u'But', u'CC'),\n",
       " (u'in', u'IN'),\n",
       " (u'all', u'ABN'),\n",
       " (u'its', u'PP$'),\n",
       " (u'175', 'NN'),\n",
       " (u'years', u'NNS'),\n",
       " (u',', u','),\n",
       " (u'not', u'*'),\n",
       " (u'a', u'AT'),\n",
       " (u'single', u'AP'),\n",
       " (u'Negro', u'NP'),\n",
       " (u'student', 'NN'),\n",
       " (u'has', u'HVZ'),\n",
       " (u'entered', u'VBD'),\n",
       " (u'its', u'PP$'),\n",
       " (u'classrooms', 'NN'),\n",
       " (u'.', u'.')]"
      ]
     },
     "execution_count": 16,
     "metadata": {},
     "output_type": "execute_result"
    }
   ],
   "source": [
    "unigram_tagger.tag(brown_sents[size:][0])"
   ]
  },
  {
   "cell_type": "code",
   "execution_count": 21,
   "metadata": {},
   "outputs": [
    {
     "data": {
      "text/plain": [
       "0.9540516296222465"
      ]
     },
     "execution_count": 21,
     "metadata": {},
     "output_type": "execute_result"
    }
   ],
   "source": [
    "train_sents = brown_tagged_sents[:size]\n",
    "test_sents = brown_tagged_sents[size:]\n",
    "bigram_tagger = nltk.BigramTagger(brown_tagged_sents, backoff=backoff_taggger)\n",
    "unigram_tagger = nltk.UnigramTagger(train_sents, backoff=bigram_tagger)\n",
    "bigram_tagger.evaluate(test_sents)"
   ]
  },
  {
   "cell_type": "code",
   "execution_count": null,
   "metadata": {},
   "outputs": [],
   "source": []
  }
 ],
 "metadata": {
  "kernelspec": {
   "display_name": "Python 2",
   "language": "python",
   "name": "python2"
  },
  "language_info": {
   "codemirror_mode": {
    "name": "ipython",
    "version": 2
   },
   "file_extension": ".py",
   "mimetype": "text/x-python",
   "name": "python",
   "nbconvert_exporter": "python",
   "pygments_lexer": "ipython2",
   "version": "2.7.15"
  }
 },
 "nbformat": 4,
 "nbformat_minor": 2
}
