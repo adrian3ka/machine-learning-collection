{
 "cells": [
  {
   "cell_type": "code",
   "execution_count": 1,
   "metadata": {},
   "outputs": [],
   "source": [
    "import nltk\n",
    "from nltk.corpus import brown"
   ]
  },
  {
   "cell_type": "code",
   "execution_count": 2,
   "metadata": {},
   "outputs": [],
   "source": [
    "tagged_token = nltk.tag.str2tuple('Saya/SUBJEK')"
   ]
  },
  {
   "cell_type": "code",
   "execution_count": 3,
   "metadata": {},
   "outputs": [
    {
     "data": {
      "text/plain": [
       "('Saya', 'SUBJEK')"
      ]
     },
     "execution_count": 3,
     "metadata": {},
     "output_type": "execute_result"
    }
   ],
   "source": [
    "tagged_token"
   ]
  },
  {
   "cell_type": "code",
   "execution_count": 4,
   "metadata": {},
   "outputs": [],
   "source": [
    "sent = '''\n",
    "Upaya/NN BI/NNP melepas/VB cadangan/NN dolar/NN AS/NNP memberikan/VB dukungan/NN positif/JJ terhadap/IN rupiah/NN \n",
    "sehingga/SC mata uang/NN Indonesia/NNP tidak/NEG terpuruk/VB terlalu/RB jauh/JJ ,/, kata/VB -nya/PRP ./.\n",
    "'''"
   ]
  },
  {
   "cell_type": "code",
   "execution_count": 5,
   "metadata": {},
   "outputs": [],
   "source": [
    "tagged_words = [nltk.tag.str2tuple(t) for t in sent.split()]"
   ]
  },
  {
   "cell_type": "code",
   "execution_count": 6,
   "metadata": {},
   "outputs": [
    {
     "name": "stdout",
     "output_type": "stream",
     "text": [
      "[('Upaya', 'NN'), ('BI', 'NNP'), ('melepas', 'VB'), ('cadangan', 'NN'), ('dolar', 'NN'), ('AS', 'NNP'), ('memberikan', 'VB'), ('dukungan', 'NN'), ('positif', 'JJ'), ('terhadap', 'IN'), ('rupiah', 'NN'), ('sehingga', 'SC'), ('mata', None), ('uang', 'NN'), ('Indonesia', 'NNP'), ('tidak', 'NEG'), ('terpuruk', 'VB'), ('terlalu', 'RB'), ('jauh', 'JJ'), (',', ','), ('kata', 'VB'), ('-nya', 'PRP'), ('.', '.')]\n"
     ]
    }
   ],
   "source": [
    "print tagged_words"
   ]
  },
  {
   "cell_type": "code",
   "execution_count": 7,
   "metadata": {},
   "outputs": [],
   "source": [
    "type(tagged_words)\n",
    "\n",
    "tagged_words_pairs = nltk.bigrams(tagged_words)"
   ]
  },
  {
   "cell_type": "code",
   "execution_count": 8,
   "metadata": {},
   "outputs": [
    {
     "data": {
      "text/plain": [
       "<generator object bigrams at 0x7f72c729db90>"
      ]
     },
     "execution_count": 8,
     "metadata": {},
     "output_type": "execute_result"
    }
   ],
   "source": [
    "tagged_words_pairs"
   ]
  },
  {
   "cell_type": "code",
   "execution_count": 9,
   "metadata": {},
   "outputs": [
    {
     "data": {
      "text/plain": [
       "[]"
      ]
     },
     "execution_count": 9,
     "metadata": {},
     "output_type": "execute_result"
    }
   ],
   "source": [
    "list(nltk.FreqDist(b[1] for (a, b) in tagged_words_pairs if a[0] == 'BENDA'))"
   ]
  },
  {
   "cell_type": "code",
   "execution_count": 10,
   "metadata": {},
   "outputs": [
    {
     "name": "stdout",
     "output_type": "stream",
     "text": [
      "NN\n",
      "NNP\n",
      "VB\n",
      "NN\n",
      "NN\n",
      "NNP\n",
      "VB\n",
      "NN\n",
      "JJ\n",
      "IN\n",
      "NN\n",
      "SC\n",
      "None\n",
      "NN\n",
      "NNP\n",
      "NEG\n",
      "VB\n",
      "RB\n",
      "JJ\n",
      ",\n",
      "VB\n",
      "PRP\n",
      ".\n"
     ]
    }
   ],
   "source": [
    "for (a, b) in tagged_words:\n",
    "    print b"
   ]
  },
  {
   "cell_type": "code",
   "execution_count": 11,
   "metadata": {},
   "outputs": [],
   "source": [
    "data = nltk.ConditionalFreqDist((word.lower(), tag)\n",
    "                                for (word, tag) in tagged_words)"
   ]
  },
  {
   "cell_type": "code",
   "execution_count": 12,
   "metadata": {},
   "outputs": [
    {
     "data": {
      "text/plain": [
       "['terlalu',\n",
       " 'terhadap',\n",
       " 'melepas',\n",
       " 'upaya',\n",
       " 'jauh',\n",
       " 'memberikan',\n",
       " 'kata',\n",
       " '-nya',\n",
       " 'cadangan',\n",
       " ',',\n",
       " '.',\n",
       " 'dukungan',\n",
       " 'mata',\n",
       " 'rupiah',\n",
       " 'sehingga',\n",
       " 'bi',\n",
       " 'terpuruk',\n",
       " 'dolar',\n",
       " 'tidak',\n",
       " 'uang',\n",
       " 'indonesia',\n",
       " 'as',\n",
       " 'positif']"
      ]
     },
     "execution_count": 12,
     "metadata": {},
     "output_type": "execute_result"
    }
   ],
   "source": [
    "data.conditions()"
   ]
  },
  {
   "cell_type": "code",
   "execution_count": 13,
   "metadata": {},
   "outputs": [
    {
     "name": "stdout",
     "output_type": "stream",
     "text": [
      "terlalu RB\n",
      "terhadap IN\n",
      "melepas VB\n",
      "upaya NN\n",
      "jauh JJ\n",
      "memberikan VB\n",
      "kata VB\n",
      "-nya PRP\n",
      "cadangan NN\n",
      ", ,\n",
      ". .\n",
      "dukungan NN\n",
      "mata"
     ]
    },
    {
     "ename": "TypeError",
     "evalue": "sequence item 0: expected string, NoneType found",
     "output_type": "error",
     "traceback": [
      "\u001b[0;31m---------------------------------------------------------------------------\u001b[0m",
      "\u001b[0;31mTypeError\u001b[0m                                 Traceback (most recent call last)",
      "\u001b[0;32m<ipython-input-13-0cf8d218d669>\u001b[0m in \u001b[0;36m<module>\u001b[0;34m()\u001b[0m\n\u001b[1;32m      3\u001b[0m     \u001b[0;32mif\u001b[0m \u001b[0mlen\u001b[0m\u001b[0;34m(\u001b[0m\u001b[0mdata\u001b[0m\u001b[0;34m[\u001b[0m\u001b[0mword\u001b[0m\u001b[0;34m]\u001b[0m\u001b[0;34m)\u001b[0m \u001b[0;34m>\u001b[0m \u001b[0;36m0\u001b[0m\u001b[0;34m:\u001b[0m\u001b[0;34m\u001b[0m\u001b[0m\n\u001b[1;32m      4\u001b[0m         \u001b[0mtags\u001b[0m \u001b[0;34m=\u001b[0m \u001b[0mdata\u001b[0m\u001b[0;34m[\u001b[0m\u001b[0mword\u001b[0m\u001b[0;34m]\u001b[0m\u001b[0;34m.\u001b[0m\u001b[0mkeys\u001b[0m\u001b[0;34m(\u001b[0m\u001b[0;34m)\u001b[0m\u001b[0;34m\u001b[0m\u001b[0m\n\u001b[0;32m----> 5\u001b[0;31m         \u001b[0;32mprint\u001b[0m \u001b[0mword\u001b[0m\u001b[0;34m,\u001b[0m \u001b[0;34m' '\u001b[0m\u001b[0;34m.\u001b[0m\u001b[0mjoin\u001b[0m\u001b[0;34m(\u001b[0m\u001b[0mtags\u001b[0m\u001b[0;34m)\u001b[0m\u001b[0;34m\u001b[0m\u001b[0m\n\u001b[0m",
      "\u001b[0;31mTypeError\u001b[0m: sequence item 0: expected string, NoneType found"
     ]
    }
   ],
   "source": [
    "for word in data.conditions():\n",
    "    #print word\n",
    "    if len(data[word]) > 0:\n",
    "        tags = data[word].keys()\n",
    "        print word, ' '.join(tags)"
   ]
  },
  {
   "cell_type": "code",
   "execution_count": 14,
   "metadata": {},
   "outputs": [
    {
     "data": {
      "text/plain": [
       "[('terlalu', FreqDist({'RB': 1})),\n",
       " ('terhadap', FreqDist({'IN': 1})),\n",
       " ('melepas', FreqDist({'VB': 1})),\n",
       " ('upaya', FreqDist({'NN': 1})),\n",
       " ('jauh', FreqDist({'JJ': 1})),\n",
       " ('memberikan', FreqDist({'VB': 1})),\n",
       " ('kata', FreqDist({'VB': 1})),\n",
       " ('-nya', FreqDist({'PRP': 1})),\n",
       " ('cadangan', FreqDist({'NN': 1})),\n",
       " (',', FreqDist({',': 1})),\n",
       " ('.', FreqDist({'.': 1})),\n",
       " ('dukungan', FreqDist({'NN': 1})),\n",
       " ('mata', FreqDist({None: 1})),\n",
       " ('rupiah', FreqDist({'NN': 1})),\n",
       " ('sehingga', FreqDist({'SC': 1})),\n",
       " ('bi', FreqDist({'NNP': 1})),\n",
       " ('terpuruk', FreqDist({'VB': 1})),\n",
       " ('dolar', FreqDist({'NN': 1})),\n",
       " ('tidak', FreqDist({'NEG': 1})),\n",
       " ('uang', FreqDist({'NN': 1})),\n",
       " ('indonesia', FreqDist({'NNP': 1})),\n",
       " ('as', FreqDist({'NNP': 1})),\n",
       " ('positif', FreqDist({'JJ': 1}))]"
      ]
     },
     "execution_count": 14,
     "metadata": {},
     "output_type": "execute_result"
    },
    {
     "name": "stdout",
     "output_type": "stream",
     "text": [
      "\n"
     ]
    }
   ],
   "source": [
    "data.items()"
   ]
  },
  {
   "cell_type": "code",
   "execution_count": null,
   "metadata": {},
   "outputs": [],
   "source": []
  },
  {
   "cell_type": "code",
   "execution_count": null,
   "metadata": {},
   "outputs": [],
   "source": []
  },
  {
   "cell_type": "code",
   "execution_count": null,
   "metadata": {},
   "outputs": [],
   "source": []
  }
 ],
 "metadata": {
  "kernelspec": {
   "display_name": "Python 2",
   "language": "python",
   "name": "python2"
  },
  "language_info": {
   "codemirror_mode": {
    "name": "ipython",
    "version": 2
   },
   "file_extension": ".py",
   "mimetype": "text/x-python",
   "name": "python",
   "nbconvert_exporter": "python",
   "pygments_lexer": "ipython2",
   "version": "2.7.15"
  }
 },
 "nbformat": 4,
 "nbformat_minor": 2
}
