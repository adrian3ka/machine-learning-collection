{
 "cells": [
  {
   "cell_type": "code",
   "execution_count": 9,
   "metadata": {},
   "outputs": [],
   "source": [
    "from nltk.corpus import brown\n",
    "import nltk\n",
    "from nltk.tokenize import sent_tokenize, word_tokenize"
   ]
  },
  {
   "cell_type": "code",
   "execution_count": 33,
   "metadata": {},
   "outputs": [],
   "source": [
    "patterns = [\n",
    "(r'meng.*$', 'KJ'),\n",
    "(r'me.*$', 'KJ'),\n",
    "(r'men*$', 'KJ'),\n",
    "(r'mem*$', 'KJ'),\n",
    "(r'meny.*$', 'KJ'),\n",
    "(r'per.*$', 'KJ'),\n",
    "(r'ber.*$', 'KJ'),\n",
    "(r'ter.*$', 'KJ'),\n",
    "(r'di.*$', 'KJ')\n",
    "]"
   ]
  },
  {
   "cell_type": "code",
   "execution_count": 34,
   "metadata": {},
   "outputs": [],
   "source": [
    "tagger1 = nltk.DefaultTagger('NN')\n",
    "regexp_tagger = nltk.RegexpTagger(patterns, backoff= tagger1)"
   ]
  },
  {
   "cell_type": "code",
   "execution_count": 47,
   "metadata": {},
   "outputs": [],
   "source": [
    "text = \"mengaji menguap . melatih berlari menggambar meja\""
   ]
  },
  {
   "cell_type": "code",
   "execution_count": 48,
   "metadata": {},
   "outputs": [],
   "source": [
    "sent_tokenize_list = sent_tokenize(text)\n",
    "word_tokenize_list = word_tokenize(text)"
   ]
  },
  {
   "cell_type": "code",
   "execution_count": 49,
   "metadata": {},
   "outputs": [
    {
     "data": {
      "text/plain": [
       "[('mengaji', 'KJ'),\n",
       " ('menguap', 'KJ'),\n",
       " ('.', 'NN'),\n",
       " ('melatih', 'KJ'),\n",
       " ('berlari', 'NN'),\n",
       " ('menggambar', 'KJ'),\n",
       " ('meja', 'KJ')]"
      ]
     },
     "execution_count": 49,
     "metadata": {},
     "output_type": "execute_result"
    }
   ],
   "source": [
    "regexp_tagger.tag(word_tokenize_list)"
   ]
  },
  {
   "cell_type": "code",
   "execution_count": null,
   "metadata": {},
   "outputs": [],
   "source": []
  }
 ],
 "metadata": {
  "kernelspec": {
   "display_name": "Python 2",
   "language": "python",
   "name": "python2"
  },
  "language_info": {
   "codemirror_mode": {
    "name": "ipython",
    "version": 2
   },
   "file_extension": ".py",
   "mimetype": "text/x-python",
   "name": "python",
   "nbconvert_exporter": "python",
   "pygments_lexer": "ipython2",
   "version": "2.7.15"
  }
 },
 "nbformat": 4,
 "nbformat_minor": 2
}
