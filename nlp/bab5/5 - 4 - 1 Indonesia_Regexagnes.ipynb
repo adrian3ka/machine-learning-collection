{
 "cells": [
  {
   "cell_type": "code",
   "execution_count": 2,
   "metadata": {},
   "outputs": [],
   "source": [
    "from nltk.corpus import brown\n",
    "import nltk\n",
    "from nltk.tokenize import sent_tokenize, word_tokenize"
   ]
  },
  {
   "cell_type": "code",
   "execution_count": 3,
   "metadata": {},
   "outputs": [
    {
     "name": "stdout",
     "output_type": "stream",
     "text": [
      "John\n",
      "36\n"
     ]
    }
   ],
   "source": [
    "class Person:\n",
    "  def __init__(self, name, age):\n",
    "    self.name = name\n",
    "    self.age = age\n",
    "\n",
    "p1 = Person(\"John\", 36)\n",
    "\n",
    "print(p1.name)\n",
    "print(p1.age)"
   ]
  },
  {
   "cell_type": "code",
   "execution_count": null,
   "metadata": {},
   "outputs": [],
   "source": []
  },
  {
   "cell_type": "code",
   "execution_count": 7,
   "metadata": {},
   "outputs": [
    {
     "name": "stdout",
     "output_type": "stream",
     "text": [
      "[\n",
      "    \"(r'meng[aiueokghx].+$', 'VB'), #gaada kata dasar meng tampaknya\\n\",\n",
      "    \"(r'mem[bpf]([a-df-z][a-qs-z]|er).+$', 'VB'),\\n\",\n",
      "    \"(r'me[lnryw](a-df-z).+$', 'VB'),\\n\",\n",
      "    \"(r'men[dtcjys].+$', 'VB'),\\n\",\n",
      "    \"(r'di.+(kan|i)$', 'VB'), #ok\\\\\\n\",\n",
      "    \"(r'per.+(kan|i|.)$', 'VB'),\\n\",\n",
      "    \"(r'ber.+(kan|an|.)$', 'VB'),\\n\",\n",
      "    \"(r'ter.+(kan|i|.)$', 'VB'),\\n\",\n",
      "    \"(r'(meng|me|mem|men).+(kan|i)$', 'VB'),\\n\",\n",
      "    \"(r'ke.+(i|an)$', 'VB'),\\n\",\n",
      "    \"(r'se(baik|benar|tidak|layak|lekas|sungguh|yogya|belum|pantas|balik|lanjut)(nya)$', 'RB'), #pantas ?\\n\",\n",
      "    \"(r'(sekadar|amat|bahkan|cukup|jua|justru|kembali|kurang|malah|mau|nian|niscaya|pasti|patut|perlu|lagi|pernah|pun|sekali|selalu|senantiasa|sering|sungguh|tentu|terus|lebih|hampir|jarang|juga|kerap|makin|memang|nyaris|paling|pula|saja|saling|sangat|segera|semakin|serba|entah|hanya|kadangkala|)$', 'RB'),\\n\",\n",
      "    \"(r'(akan|antara|bagi|buat|dari|dengan|di|ke|kecuali|lepas|oleh|pada|per|peri|seperti|tanpa|tentang|untuk)$', 'IN')\\n\",\n",
      "    \"(r'(dan|serta|atau|tetapi|melainkan|padahal|sedangkan)$','CC'), #konj koordinatif\\n\",\n",
      "    \"(r'(sejak|semenjak|sedari|sewaktu|ketika|tatkala|sementara|begitu|seraya|selagi|selama|serta|sambil|demi|setelah|sesudah|sebelum|sehabis|selesai|seusai|hingga|sampai|jika|kalau|jikalau|asal|$','SC'), #konj subordinatif\\n\",\n",
      "    \"]\"\n",
      "   ]\n",
      "\n"
     ]
    }
   ],
   "source": [
    "file = open(\"pattern.txt\", \"r\") \n",
    "pattern= file.read()\n",
    "print pattern"
   ]
  },
  {
   "cell_type": "code",
   "execution_count": 9,
   "metadata": {},
   "outputs": [],
   "source": [
    "patterns = [\n",
    "    \"(r'meng[aiueokghx].+$', 'VB'), #gaada kata dasar meng tampaknya\\n\",\n",
    "    \"(r'mem[bpf]([a-df-z][a-qs-z]|er).+$', 'VB'),\\n\",\n",
    "    \"(r'me[lnryw](a-df-z).+$', 'VB'),\\n\",\n",
    "    \"(r'men[dtcjys].+$', 'VB'),\\n\",\n",
    "    \"(r'di.+(kan|i)$', 'VB'), #ok\\\\\\n\",\n",
    "    \"(r'per.+(kan|i|.)$', 'VB'),\\n\",\n",
    "    \"(r'ber.+(kan|an|.)$', 'VB'),\\n\",\n",
    "    \"(r'ter.+(kan|i|.)$', 'VB'),\\n\",\n",
    "    \"(r'(meng|me|mem|men).+(kan|i)$', 'VB'),\\n\",\n",
    "    \"(r'ke.+(i|an)$', 'VB'),\\n\",\n",
    "    \"(r'se(baik|benar|tidak|layak|lekas|sungguh|yogya|belum|pantas|balik|lanjut)(nya)$', 'RB'), #pantas ?\\n\",\n",
    "    \"(r'(sekadar|amat|bahkan|cukup|jua|justru|kembali|kurang|malah|mau|nian|niscaya|pasti|patut|perlu|lagi|pernah|pun|sekali|selalu|senantiasa|sering|sungguh|tentu|terus|lebih|hampir|jarang|juga|kerap|makin|memang|nyaris|paling|pula|saja|saling|sangat|segera|semakin|serba|entah|hanya|kadangkala|)$', 'RB'),\\n\",\n",
    "    \"(r'(akan|antara|bagi|buat|dari|dengan|di|ke|kecuali|lepas|oleh|pada|per|peri|seperti|tanpa|tentang|untuk)$', 'IN')\\n\",\n",
    "    \"(r'(dan|serta|atau|tetapi|melainkan|padahal|sedangkan)$','CC'), #konj koordinatif\\n\",\n",
    "    \"(r'(sejak|semenjak|sedari|sewaktu|ketika|tatkala|sementara|begitu|seraya|selagi|selama|serta|sambil|demi|setelah|sesudah|sebelum|sehabis|selesai|seusai|hingga|sampai|jika|kalau|jikalau|asal|$','SC'), #konj subordinatif\\n\",\n",
    "    \"]\"\n",
    "]"
   ]
  },
  {
   "cell_type": "code",
   "execution_count": 11,
   "metadata": {},
   "outputs": [
    {
     "ename": "ValueError",
     "evalue": "too many values to unpack",
     "output_type": "error",
     "traceback": [
      "\u001b[0;31m---------------------------------------------------------------------------\u001b[0m",
      "\u001b[0;31mValueError\u001b[0m                                Traceback (most recent call last)",
      "\u001b[0;32m<ipython-input-11-92310721ec69>\u001b[0m in \u001b[0;36m<module>\u001b[0;34m()\u001b[0m\n\u001b[1;32m      1\u001b[0m \u001b[0mtagger1\u001b[0m \u001b[0;34m=\u001b[0m \u001b[0mnltk\u001b[0m\u001b[0;34m.\u001b[0m\u001b[0mDefaultTagger\u001b[0m\u001b[0;34m(\u001b[0m\u001b[0;34m'NN'\u001b[0m\u001b[0;34m)\u001b[0m\u001b[0;34m\u001b[0m\u001b[0m\n\u001b[0;32m----> 2\u001b[0;31m \u001b[0mregexp_tagger\u001b[0m \u001b[0;34m=\u001b[0m \u001b[0mnltk\u001b[0m\u001b[0;34m.\u001b[0m\u001b[0mRegexpTagger\u001b[0m\u001b[0;34m(\u001b[0m\u001b[0mpatterns\u001b[0m\u001b[0;34m,\u001b[0m \u001b[0mbackoff\u001b[0m\u001b[0;34m=\u001b[0m \u001b[0mtagger1\u001b[0m\u001b[0;34m)\u001b[0m\u001b[0;34m\u001b[0m\u001b[0m\n\u001b[0m",
      "\u001b[0;32m/home/agnesia/anaconda2/envs/tensorflow/lib/python2.7/site-packages/nltk/tag/sequential.pyc\u001b[0m in \u001b[0;36m__init__\u001b[0;34m(self, regexps, backoff)\u001b[0m\n\u001b[1;32m    535\u001b[0m         \"\"\"\n\u001b[1;32m    536\u001b[0m         \u001b[0mSequentialBackoffTagger\u001b[0m\u001b[0;34m.\u001b[0m\u001b[0m__init__\u001b[0m\u001b[0;34m(\u001b[0m\u001b[0mself\u001b[0m\u001b[0;34m,\u001b[0m \u001b[0mbackoff\u001b[0m\u001b[0;34m)\u001b[0m\u001b[0;34m\u001b[0m\u001b[0m\n\u001b[0;32m--> 537\u001b[0;31m         \u001b[0mself\u001b[0m\u001b[0;34m.\u001b[0m\u001b[0m_regexs\u001b[0m \u001b[0;34m=\u001b[0m \u001b[0;34m[\u001b[0m\u001b[0;34m(\u001b[0m\u001b[0mre\u001b[0m\u001b[0;34m.\u001b[0m\u001b[0mcompile\u001b[0m\u001b[0;34m(\u001b[0m\u001b[0mregexp\u001b[0m\u001b[0;34m)\u001b[0m\u001b[0;34m,\u001b[0m \u001b[0mtag\u001b[0m\u001b[0;34m,\u001b[0m\u001b[0;34m)\u001b[0m \u001b[0;32mfor\u001b[0m \u001b[0mregexp\u001b[0m\u001b[0;34m,\u001b[0m \u001b[0mtag\u001b[0m \u001b[0;32min\u001b[0m \u001b[0mregexps\u001b[0m\u001b[0;34m]\u001b[0m\u001b[0;34m\u001b[0m\u001b[0m\n\u001b[0m\u001b[1;32m    538\u001b[0m \u001b[0;34m\u001b[0m\u001b[0m\n\u001b[1;32m    539\u001b[0m     \u001b[0;32mdef\u001b[0m \u001b[0mencode_json_obj\u001b[0m\u001b[0;34m(\u001b[0m\u001b[0mself\u001b[0m\u001b[0;34m)\u001b[0m\u001b[0;34m:\u001b[0m\u001b[0;34m\u001b[0m\u001b[0m\n",
      "\u001b[0;31mValueError\u001b[0m: too many values to unpack"
     ]
    }
   ],
   "source": [
    "tagger1 = nltk.DefaultTagger('NN')\n",
    "regexp_tagger = nltk.RegexpTagger(patterns, backoff= tagger1)"
   ]
  },
  {
   "cell_type": "code",
   "execution_count": 27,
   "metadata": {},
   "outputs": [],
   "source": [
    "text = \"mengaji menguap melatih berlari menggambar meja\""
   ]
  },
  {
   "cell_type": "code",
   "execution_count": 28,
   "metadata": {},
   "outputs": [],
   "source": [
    "sent_tokenize_list = sent_tokenize(text)\n",
    "word_tokenize_list = word_tokenize(text)"
   ]
  },
  {
   "cell_type": "code",
   "execution_count": 29,
   "metadata": {},
   "outputs": [
    {
     "data": {
      "text/plain": [
       "[('mengaji', 'NN'),\n",
       " ('menguap', 'NN'),\n",
       " ('melatih', 'NN'),\n",
       " ('berlari', 'NN'),\n",
       " ('menggambar', 'NN'),\n",
       " ('meja', 'NN')]"
      ]
     },
     "execution_count": 29,
     "metadata": {},
     "output_type": "execute_result"
    }
   ],
   "source": [
    "regexp_tagger.tag(word_tokenize_list)"
   ]
  },
  {
   "cell_type": "code",
   "execution_count": null,
   "metadata": {},
   "outputs": [],
   "source": []
  }
 ],
 "metadata": {
  "kernelspec": {
   "display_name": "Python 2",
   "language": "python",
   "name": "python2"
  },
  "language_info": {
   "codemirror_mode": {
    "name": "ipython",
    "version": 2
   },
   "file_extension": ".py",
   "mimetype": "text/x-python",
   "name": "python",
   "nbconvert_exporter": "python",
   "pygments_lexer": "ipython2",
   "version": "2.7.15"
  }
 },
 "nbformat": 4,
 "nbformat_minor": 2
}
