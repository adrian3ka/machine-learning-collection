{
 "cells": [
  {
   "cell_type": "markdown",
   "metadata": {},
   "source": [
    "# 8.4 Parsing with Context-Free Grammar"
   ]
  },
  {
   "cell_type": "code",
   "execution_count": 2,
   "metadata": {},
   "outputs": [],
   "source": [
    "import nltk\n",
    "from nltk import CFG"
   ]
  },
  {
   "cell_type": "markdown",
   "metadata": {},
   "source": [
    "### Recursive Descent Parsing"
   ]
  },
  {
   "cell_type": "code",
   "execution_count": 18,
   "metadata": {},
   "outputs": [
    {
     "name": "stdout",
     "output_type": "stream",
     "text": [
      "Parsing u'Mary saw a dog'\n",
      "    [ * S ]\n",
      "  E [ * NP VP ]\n",
      "  E [ * 'John' VP ]\n",
      "  E [ * 'Mary' VP ]\n",
      "  M [ 'Mary' * VP ]\n",
      "  E [ 'Mary' * V NP ]\n",
      "  E [ 'Mary' * 'saw' NP ]\n",
      "  M [ 'Mary' 'saw' * NP ]\n",
      "  E [ 'Mary' 'saw' * 'John' ]\n",
      "  E [ 'Mary' 'saw' * 'Mary' ]\n",
      "  E [ 'Mary' 'saw' * 'Bob' ]\n",
      "  E [ 'Mary' 'saw' * Det N ]\n",
      "  E [ 'Mary' 'saw' * 'a' N ]\n",
      "  M [ 'Mary' 'saw' 'a' * N ]\n",
      "  E [ 'Mary' 'saw' 'a' * 'man' ]\n",
      "  E [ 'Mary' 'saw' 'a' * 'dog' ]\n",
      "  M [ 'Mary' 'saw' 'a' 'dog' ]\n",
      "  + [ 'Mary' 'saw' 'a' 'dog' ]\n",
      "(S (NP Mary) (VP (V saw) (NP (Det a) (N dog))))\n",
      "  E [ 'Mary' 'saw' 'a' * 'cat' ]\n",
      "  E [ 'Mary' 'saw' 'a' * 'telescope' ]\n",
      "  E [ 'Mary' 'saw' 'a' * 'park' ]\n",
      "  E [ 'Mary' 'saw' * 'an' N ]\n",
      "  E [ 'Mary' 'saw' * 'the' N ]\n",
      "  E [ 'Mary' 'saw' * 'my' N ]\n",
      "  E [ 'Mary' 'saw' * Det N PP ]\n",
      "  E [ 'Mary' 'saw' * 'a' N PP ]\n",
      "  M [ 'Mary' 'saw' 'a' * N PP ]\n",
      "  E [ 'Mary' 'saw' 'a' * 'man' PP ]\n",
      "  E [ 'Mary' 'saw' 'a' * 'dog' PP ]\n",
      "  M [ 'Mary' 'saw' 'a' 'dog' * PP ]\n",
      "  E [ 'Mary' 'saw' 'a' 'dog' * P NP ]\n",
      "  E [ 'Mary' 'saw' 'a' 'dog' * 'in' NP ]\n",
      "  E [ 'Mary' 'saw' 'a' 'dog' * 'on' NP ]\n",
      "  E [ 'Mary' 'saw' 'a' 'dog' * 'by' NP ]\n",
      "  E [ 'Mary' 'saw' 'a' 'dog' * 'with' NP ]\n",
      "  E [ 'Mary' 'saw' 'a' * 'cat' PP ]\n",
      "  E [ 'Mary' 'saw' 'a' * 'telescope' PP ]\n",
      "  E [ 'Mary' 'saw' 'a' * 'park' PP ]\n",
      "  E [ 'Mary' 'saw' * 'an' N PP ]\n",
      "  E [ 'Mary' 'saw' * 'the' N PP ]\n",
      "  E [ 'Mary' 'saw' * 'my' N PP ]\n",
      "  E [ 'Mary' * 'ate' NP ]\n",
      "  E [ 'Mary' * 'walked' NP ]\n",
      "  E [ 'Mary' * V NP PP ]\n",
      "  E [ 'Mary' * 'saw' NP PP ]\n",
      "  M [ 'Mary' 'saw' * NP PP ]\n",
      "  E [ 'Mary' 'saw' * 'John' PP ]\n",
      "  E [ 'Mary' 'saw' * 'Mary' PP ]\n",
      "  E [ 'Mary' 'saw' * 'Bob' PP ]\n",
      "  E [ 'Mary' 'saw' * Det N PP ]\n",
      "  E [ 'Mary' 'saw' * 'a' N PP ]\n",
      "  M [ 'Mary' 'saw' 'a' * N PP ]\n",
      "  E [ 'Mary' 'saw' 'a' * 'man' PP ]\n",
      "  E [ 'Mary' 'saw' 'a' * 'dog' PP ]\n",
      "  M [ 'Mary' 'saw' 'a' 'dog' * PP ]\n",
      "  E [ 'Mary' 'saw' 'a' 'dog' * P NP ]\n",
      "  E [ 'Mary' 'saw' 'a' 'dog' * 'in' NP ]\n",
      "  E [ 'Mary' 'saw' 'a' 'dog' * 'on' NP ]\n",
      "  E [ 'Mary' 'saw' 'a' 'dog' * 'by' NP ]\n",
      "  E [ 'Mary' 'saw' 'a' 'dog' * 'with' NP ]\n",
      "  E [ 'Mary' 'saw' 'a' * 'cat' PP ]\n",
      "  E [ 'Mary' 'saw' 'a' * 'telescope' PP ]\n",
      "  E [ 'Mary' 'saw' 'a' * 'park' PP ]\n",
      "  E [ 'Mary' 'saw' * 'an' N PP ]\n",
      "  E [ 'Mary' 'saw' * 'the' N PP ]\n",
      "  E [ 'Mary' 'saw' * 'my' N PP ]\n",
      "  E [ 'Mary' 'saw' * Det N PP PP ]\n",
      "  E [ 'Mary' 'saw' * 'a' N PP PP ]\n",
      "  M [ 'Mary' 'saw' 'a' * N PP PP ]\n",
      "  E [ 'Mary' 'saw' 'a' * 'man' PP PP ]\n",
      "  E [ 'Mary' 'saw' 'a' * 'dog' PP PP ]\n",
      "  M [ 'Mary' 'saw' 'a' 'dog' * PP PP ]\n",
      "  E [ 'Mary' 'saw' 'a' 'dog' * P NP PP ]\n",
      "  E [ 'Mary' 'saw' 'a' 'dog' * 'in' NP PP ]\n",
      "  E [ 'Mary' 'saw' 'a' 'dog' * 'on' NP PP ]\n",
      "  E [ 'Mary' 'saw' 'a' 'dog' * 'by' NP PP ]\n",
      "  E [ 'Mary' 'saw' 'a' 'dog' * 'with' NP PP ]\n",
      "  E [ 'Mary' 'saw' 'a' * 'cat' PP PP ]\n",
      "  E [ 'Mary' 'saw' 'a' * 'telescope' PP PP ]\n",
      "  E [ 'Mary' 'saw' 'a' * 'park' PP PP ]\n",
      "  E [ 'Mary' 'saw' * 'an' N PP PP ]\n",
      "  E [ 'Mary' 'saw' * 'the' N PP PP ]\n",
      "  E [ 'Mary' 'saw' * 'my' N PP PP ]\n",
      "  E [ 'Mary' * 'ate' NP PP ]\n",
      "  E [ 'Mary' * 'walked' NP PP ]\n",
      "  E [ * 'Bob' VP ]\n",
      "  E [ * Det N VP ]\n",
      "  E [ * 'a' N VP ]\n",
      "  E [ * 'an' N VP ]\n",
      "  E [ * 'the' N VP ]\n",
      "  E [ * 'my' N VP ]\n",
      "  E [ * Det N PP VP ]\n",
      "  E [ * 'a' N PP VP ]\n",
      "  E [ * 'an' N PP VP ]\n",
      "  E [ * 'the' N PP VP ]\n",
      "  E [ * 'my' N PP VP ]\n"
     ]
    }
   ],
   "source": [
    "grammar1 = nltk.data.load('file:mygrammar.cfg')\n",
    "rd_parser = nltk.RecursiveDescentParser(grammar1, trace=2)\n",
    "sent = 'Mary saw a dog'.split()\n",
    "for t in rd_parser.parse(sent):\n",
    "    print t"
   ]
  },
  {
   "cell_type": "code",
   "execution_count": 19,
   "metadata": {},
   "outputs": [
    {
     "name": "stdout",
     "output_type": "stream",
     "text": [
      "Parsing u'Mary saw a dog'\n",
      "    [ * Mary saw a dog]\n",
      "  S [ 'Mary' * saw a dog]\n",
      "  R [ NP * saw a dog]\n",
      "  S [ NP 'saw' * a dog]\n",
      "  R [ NP V * a dog]\n",
      "  S [ NP V 'a' * dog]\n",
      "  R [ NP V Det * dog]\n",
      "  S [ NP V Det 'dog' * ]\n",
      "  R [ NP V Det N * ]\n",
      "  R [ NP V NP * ]\n",
      "  R [ NP VP * ]\n",
      "  R [ S * ]\n",
      "(S (NP Mary) (VP (V saw) (NP (Det a) (N dog))))\n"
     ]
    }
   ],
   "source": [
    "sr_parser = nltk.ShiftReduceParser(grammar1, trace=2)\n",
    "sent = 'Mary saw a dog'.split()\n",
    "for tree in sr_parser.parse(sent):\n",
    "    print(tree)"
   ]
  },
  {
   "cell_type": "markdown",
   "metadata": {},
   "source": [
    "## Well-Formed Substring Tables"
   ]
  },
  {
   "cell_type": "code",
   "execution_count": 37,
   "metadata": {},
   "outputs": [],
   "source": [
    "groucho_grammar = CFG.fromstring(\"\"\"\n",
    "S -> NP VP\n",
    "PP -> P NP\n",
    "NP -> Det N | Det N PP | 'I'\n",
    "VP -> V NP | VP PP\n",
    "Det -> 'an' | 'my'\n",
    "N -> 'elephant' | 'pajamas'\n",
    "V -> 'shot'\n",
    "P -> 'in'\n",
    "\"\"\")"
   ]
  },
  {
   "cell_type": "code",
   "execution_count": 38,
   "metadata": {},
   "outputs": [],
   "source": [
    "text = ['I', 'shot', 'an', 'elephant', 'in', 'my', 'pajamas']"
   ]
  },
  {
   "cell_type": "code",
   "execution_count": 39,
   "metadata": {},
   "outputs": [],
   "source": [
    "def init_wfst(tokens, grammar):\n",
    "    numtokens = len(tokens)\n",
    "    wfst = [[None for i in range(numtokens+1)] for j in range(numtokens+1)]\n",
    "    for i in range(numtokens):\n",
    "        productions = grammar.productions(rhs=tokens[i])\n",
    "        wfst[i][i+1] = productions[0].lhs()\n",
    "    return wfst"
   ]
  },
  {
   "cell_type": "code",
   "execution_count": 40,
   "metadata": {},
   "outputs": [],
   "source": [
    "def complete_wfst(wfst, tokens, grammar, trace=False):\n",
    "    index = dict((p.rhs(), p.lhs()) for p in grammar.productions())\n",
    "    numtokens = len(tokens)\n",
    "    for span in range(2, numtokens+1):\n",
    "        for start in range(numtokens+1-span):\n",
    "            end = start + span\n",
    "            for mid in range(start+1, end):\n",
    "                nt1, nt2 = wfst[start][mid], wfst[mid][end]\n",
    "                if nt1 and nt2 and (nt1,nt2) in index:\n",
    "                    wfst[start][end] = index[(nt1,nt2)]\n",
    "                    if trace:\n",
    "                        print \"[%s] %3s [%s] %3s [%s] ==> [%s] %3s [%s]\" % \\\n",
    "                        (start, nt1, mid, nt2, end, start, index[(nt1,nt2)], end)\n",
    "    return wfst"
   ]
  },
  {
   "cell_type": "code",
   "execution_count": 41,
   "metadata": {},
   "outputs": [],
   "source": [
    "def display(wfst, tokens):\n",
    "    print '\\nWFST ' + ' '.join([(\"%-4d\" % i) for i in range(1, len(wfst))])\n",
    "    for i in range(len(wfst)-1):\n",
    "        print \"%d  \" % i,\n",
    "        for j in range(1, len(wfst)):\n",
    "            print \"%-4s\" % (wfst[i][j] or '.'),\n",
    "        print"
   ]
  },
  {
   "cell_type": "code",
   "execution_count": 42,
   "metadata": {},
   "outputs": [
    {
     "name": "stdout",
     "output_type": "stream",
     "text": [
      "\n",
      "WFST 1    2    3    4    5    6    7   \n",
      "0   NP   .    .    .    .    .    .   \n",
      "1   .    V    .    .    .    .    .   \n",
      "2   .    .    Det  .    .    .    .   \n",
      "3   .    .    .    N    .    .    .   \n",
      "4   .    .    .    .    P    .    .   \n",
      "5   .    .    .    .    .    Det  .   \n",
      "6   .    .    .    .    .    .    N   \n"
     ]
    }
   ],
   "source": [
    "tokens = \"I shot an elephant in my pajamas\".split()\n",
    "wfst0 = init_wfst(tokens, groucho_grammar)\n",
    "display(wfst0, tokens)"
   ]
  },
  {
   "cell_type": "code",
   "execution_count": 34,
   "metadata": {},
   "outputs": [
    {
     "name": "stdout",
     "output_type": "stream",
     "text": [
      "\n",
      "WFST 1    2    3    4    5    6    7   \n",
      "0   NP   .    .    S    .    .    S   \n",
      "1   .    V    .    VP   .    .    VP  \n",
      "2   .    .    Det  NP   .    .    .   \n",
      "3   .    .    .    N    .    .    .   \n",
      "4   .    .    .    .    P    .    PP  \n",
      "5   .    .    .    .    .    Det  NP  \n",
      "6   .    .    .    .    .    .    N   \n"
     ]
    }
   ],
   "source": [
    "wfst1 = complete_wfst(wfst0, tokens, groucho_grammar)\n",
    "display(wfst1, tokens)"
   ]
  },
  {
   "cell_type": "code",
   "execution_count": 35,
   "metadata": {},
   "outputs": [
    {
     "name": "stdout",
     "output_type": "stream",
     "text": [
      "[2] Det [3]   N [4] ==> [2]  NP [4]\n",
      "[5] Det [6]   N [7] ==> [5]  NP [7]\n",
      "[1]   V [2]  NP [4] ==> [1]  VP [4]\n",
      "[4]   P [5]  NP [7] ==> [4]  PP [7]\n",
      "[0]  NP [1]  VP [4] ==> [0]   S [4]\n",
      "[1]  VP [4]  PP [7] ==> [1]  VP [7]\n",
      "[0]  NP [1]  VP [7] ==> [0]   S [7]\n"
     ]
    }
   ],
   "source": [
    "wfst1 = complete_wfst(wfst0, tokens, groucho_grammar, trace=True)"
   ]
  },
  {
   "cell_type": "code",
   "execution_count": null,
   "metadata": {},
   "outputs": [],
   "source": []
  }
 ],
 "metadata": {
  "kernelspec": {
   "display_name": "Python 2",
   "language": "python",
   "name": "python2"
  },
  "language_info": {
   "codemirror_mode": {
    "name": "ipython",
    "version": 2
   },
   "file_extension": ".py",
   "mimetype": "text/x-python",
   "name": "python",
   "nbconvert_exporter": "python",
   "pygments_lexer": "ipython2",
   "version": "2.7.15"
  }
 },
 "nbformat": 4,
 "nbformat_minor": 2
}
