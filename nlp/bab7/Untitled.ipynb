{
 "cells": [
  {
   "cell_type": "markdown",
   "metadata": {},
   "source": [
    "# 7.6 Relation Extraction"
   ]
  },
  {
   "cell_type": "code",
   "execution_count": 19,
   "metadata": {},
   "outputs": [],
   "source": [
    "import nltk\n",
    "import re\n",
    "import os\n",
    "from nltk.corpus import conll2002\n",
    "nltk.config_megam('../megam')"
   ]
  },
  {
   "cell_type": "code",
   "execution_count": 20,
   "metadata": {},
   "outputs": [
    {
     "name": "stdout",
     "output_type": "stream",
     "text": [
      "[ORG: u'WHYY'] u'in' [LOC: u'Philadelphia']\n",
      "[ORG: u'McGlashan &AMP; Sarrail'] u'firm in' [LOC: u'San Mateo']\n",
      "[ORG: u'Freedom Forum'] u'in' [LOC: u'Arlington']\n",
      "[ORG: u'Brookings Institution'] u', the research group in' [LOC: u'Washington']\n",
      "[ORG: u'Idealab'] u', a self-described business incubator based in' [LOC: u'Los Angeles']\n",
      "[ORG: u'Open Text'] u', based in' [LOC: u'Waterloo']\n",
      "[ORG: u'WGBH'] u'in' [LOC: u'Boston']\n",
      "[ORG: u'Bastille Opera'] u'in' [LOC: u'Paris']\n",
      "[ORG: u'Omnicom'] u'in' [LOC: u'New York']\n",
      "[ORG: u'DDB Needham'] u'in' [LOC: u'New York']\n",
      "[ORG: u'Kaplan Thaler Group'] u'in' [LOC: u'New York']\n",
      "[ORG: u'BBDO South'] u'in' [LOC: u'Atlanta']\n",
      "[ORG: u'Georgia-Pacific'] u'in' [LOC: u'Atlanta']\n"
     ]
    }
   ],
   "source": [
    "IN = re.compile(r'.*\\bin\\b(?!\\b.+ing)')\n",
    "for doc in nltk.corpus.ieer.parsed_docs('NYT_19980315'):\n",
    "    for rel in nltk.sem.extract_rels('ORG', 'LOC', doc,\n",
    "                                     corpus='ieer', pattern = IN):\n",
    "        print(nltk.sem.rtuple(rel))"
   ]
  },
  {
   "cell_type": "code",
   "execution_count": 21,
   "metadata": {},
   "outputs": [],
   "source": [
    "vnv = \"\"\"\n",
    "(\n",
    "is/V|         # 3rd sing present and\n",
    "was/V|        # past forms of the verb zijn ('be')\n",
    "werd/V|       # and also present\n",
    "wordt/V       # past of worden ('become')\n",
    ")\n",
    ".*            # followed by anything\n",
    "van/Prep      # followed by van ('of')\n",
    "\"\"\""
   ]
  },
  {
   "cell_type": "code",
   "execution_count": 23,
   "metadata": {},
   "outputs": [
    {
     "name": "stdout",
     "output_type": "stream",
     "text": [
      "VAN(u\"cornet_d'elzius\", u'buitenlandse_handel')\n",
      "VAN(u'johan_rottiers', u'kardinaal_van_roey_instituut')\n",
      "VAN(u'annie_lennox', u'eurythmics')\n"
     ]
    }
   ],
   "source": [
    "VAN = re.compile(vnv, re.VERBOSE)\n",
    "for doc in conll2002.chunked_sents('ned.train'):\n",
    "    for r in nltk.sem.extract_rels('PER', 'ORG', doc,\n",
    "                                    corpus='conll2002', pattern=VAN):\n",
    "        print nltk.sem.clause(r, relsym=\"VAN\")"
   ]
  },
  {
   "cell_type": "code",
   "execution_count": null,
   "metadata": {},
   "outputs": [],
   "source": []
  }
 ],
 "metadata": {
  "kernelspec": {
   "display_name": "Python 2",
   "language": "python",
   "name": "python2"
  },
  "language_info": {
   "codemirror_mode": {
    "name": "ipython",
    "version": 2
   },
   "file_extension": ".py",
   "mimetype": "text/x-python",
   "name": "python",
   "nbconvert_exporter": "python",
   "pygments_lexer": "ipython2",
   "version": "2.7.15"
  }
 },
 "nbformat": 4,
 "nbformat_minor": 2
}
