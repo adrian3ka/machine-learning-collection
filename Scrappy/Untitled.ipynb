{
 "cells": [
  {
   "cell_type": "code",
   "execution_count": 22,
   "metadata": {},
   "outputs": [],
   "source": [
    "from urllib2 import urlopen\n",
    "from selenium import webdriver\n",
    "from bs4 import BeautifulSoup"
   ]
  },
  {
   "cell_type": "code",
   "execution_count": 23,
   "metadata": {},
   "outputs": [],
   "source": [
    "html = urlopen(\"https://www.karir.com/sitemap.xml\").read()\n",
    "soup =  BeautifulSoup(html, \"lxml\")"
   ]
  },
  {
   "cell_type": "code",
   "execution_count": 72,
   "metadata": {},
   "outputs": [],
   "source": [
    "def scrap_karir(link):\n",
    "    karir_html = urlopen(link).read()\n",
    "    soup =  BeautifulSoup(karir_html, \"lxml\")\n",
    "    title = soup.find(\"h5\",\"title\")\n",
    "    info = soup.find_all(\"footer\",\"b-stat__footer\")\n",
    "    location = soup.find(\"li\", \"job--location\")\n",
    "    salary = soup.find(\"span\",\"salary\")\n",
    "    field = info[0]\n",
    "    job_level = info[1]\n",
    "    work_exp = info[2]\n",
    "    major = info[3]\n",
    "    degree = info[4]\n",
    "    companies_link = \"https://karir.com\" + soup.find(\"a\",\"link\")[\"href\"]\n",
    "    \n",
    "    companies_karir_html = urlopen(companies_link).read()\n",
    "    companies_soup =  BeautifulSoup(companies_karir_html, \"lxml\")\n",
    "    \n",
    "    industry = companies_soup.find_all(\"div\",\"company__header__info__wrapper__detail__item\")[1]\n",
    "    print companies_link\n",
    "    if title == None:\n",
    "        return\n",
    "    \n",
    "    print \"TITLE >> \", title.get_text()\n",
    "    \n",
    "    print \"Industri >> \", industry.get_text()\n",
    "    print \"Lokasi >> \", location.get_text()\n",
    "    print \"Salary >> \", salary.get_text()\n",
    "    print \"Field >> \", field.get_text()\n",
    "    print \"Job Level >> \", job_level.get_text()\n",
    "    print \"Pengalaman >> \", work_exp.get_text()\n",
    "    print \"Jurusan >> \", major.get_text()\n",
    "    print \"Degree >> \", degree.get_text()\n",
    "    print \"------------------------------------------------\""
   ]
  },
  {
   "cell_type": "code",
   "execution_count": 73,
   "metadata": {},
   "outputs": [
    {
     "name": "stdout",
     "output_type": "stream",
     "text": [
      "https://karir.com/companies/42458\n",
      "TITLE >>  KASIR AVENUE TRANS MAKASSAR\n",
      "Industri >>  Ritel\n",
      "Lokasi >>  Makassar\n",
      "Salary >>  IDR 2.723.000 - 2.942.000\n",
      "Field >>  Penjualan dan Pemasaran\n",
      "Job Level >>  Pemula / Staf\n",
      "Pengalaman >>  Setidaknya 1 tahun\n",
      "Jurusan >>  Lainnya\n",
      "Degree >>  SMA/SMK/Sederajat\n",
      "------------------------------------------------\n"
     ]
    }
   ],
   "source": [
    "produk = soup.find_all(\"loc\")\n",
    "for p in produk:\n",
    "    if \"opportunities\" in p.string:\n",
    "        scrap_karir(p.string)\n",
    "        break"
   ]
  },
  {
   "cell_type": "code",
   "execution_count": null,
   "metadata": {},
   "outputs": [],
   "source": []
  },
  {
   "cell_type": "code",
   "execution_count": null,
   "metadata": {},
   "outputs": [],
   "source": []
  }
 ],
 "metadata": {
  "kernelspec": {
   "display_name": "Python 2",
   "language": "python",
   "name": "python2"
  },
  "language_info": {
   "codemirror_mode": {
    "name": "ipython",
    "version": 2
   },
   "file_extension": ".py",
   "mimetype": "text/x-python",
   "name": "python",
   "nbconvert_exporter": "python",
   "pygments_lexer": "ipython2",
   "version": "2.7.15"
  }
 },
 "nbformat": 4,
 "nbformat_minor": 2
}
