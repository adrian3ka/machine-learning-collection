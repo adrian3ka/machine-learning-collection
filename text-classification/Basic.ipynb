{
 "cells": [
  {
   "cell_type": "code",
   "execution_count": 1,
   "metadata": {},
   "outputs": [],
   "source": [
    "from sklearn.feature_extraction.text import CountVectorizer\n",
    "text= ['The quick brown fox jumped over the lazy dog.',\n",
    "       'The dog agnes.',\n",
    "       'The fox tika.']\n",
    "\n",
    "vector = CountVectorizer()\n",
    "trained = vector.fit_transform(text)"
   ]
  },
  {
   "cell_type": "code",
   "execution_count": 2,
   "metadata": {},
   "outputs": [
    {
     "name": "stdout",
     "output_type": "stream",
     "text": [
      "Print Vocabulary > {u'brown': 1, u'lazy': 5, u'jumped': 4, u'over': 6, u'fox': 3, u'dog': 2, u'quick': 7, u'tika': 9, u'the': 8, u'agnes': 0}\n"
     ]
    }
   ],
   "source": [
    "print (\"Print Vocabulary > \" + str(vector.vocabulary_))"
   ]
  },
  {
   "cell_type": "code",
   "execution_count": 3,
   "metadata": {},
   "outputs": [
    {
     "name": "stdout",
     "output_type": "stream",
     "text": [
      "[u'agnes', u'brown', u'dog', u'fox', u'jumped', u'lazy', u'over', u'quick', u'the', u'tika']\n"
     ]
    }
   ],
   "source": [
    "print (vector.get_feature_names())"
   ]
  },
  {
   "cell_type": "code",
   "execution_count": 4,
   "metadata": {},
   "outputs": [
    {
     "data": {
      "text/plain": [
       "array([[0, 1, 1, 1, 1, 1, 1, 1, 2, 0],\n",
       "       [1, 0, 1, 0, 0, 0, 0, 0, 1, 0],\n",
       "       [0, 0, 0, 1, 0, 0, 0, 0, 1, 1]])"
      ]
     },
     "execution_count": 4,
     "metadata": {},
     "output_type": "execute_result"
    }
   ],
   "source": [
    "counts = vector.fit_transform(text)\n",
    "counts.toarray()"
   ]
  },
  {
   "cell_type": "code",
   "execution_count": 8,
   "metadata": {},
   "outputs": [
    {
     "name": "stdout",
     "output_type": "stream",
     "text": [
      "[[0 1 1 1 1 1 1 1 2 0]]\n"
     ]
    }
   ],
   "source": [
    "print counts[0].toarray()"
   ]
  },
  {
   "cell_type": "code",
   "execution_count": 16,
   "metadata": {},
   "outputs": [
    {
     "data": {
      "text/plain": [
       "(3, 10)"
      ]
     },
     "execution_count": 16,
     "metadata": {},
     "output_type": "execute_result"
    }
   ],
   "source": [
    "trained.shape"
   ]
  },
  {
   "cell_type": "code",
   "execution_count": 8,
   "metadata": {},
   "outputs": [],
   "source": [
    "#TF(TERM FREQUENCY) : Seberapa sering kata2 muncul dalam dokumen\n",
    "#IDF(Inverse Document Frequency) : Melihat kata2 yang sering muncul\n",
    "#                                  dalam semua dokumen yang ada\n",
    "#Karena banyak belom tentu relevan contohnya kata 'the', 'it'"
   ]
  },
  {
   "cell_type": "code",
   "execution_count": 10,
   "metadata": {},
   "outputs": [
    {
     "name": "stdout",
     "output_type": "stream",
     "text": [
      "Learning frequency of all features \n",
      "[1.69314718 1.28768207 1.28768207 1.69314718 1.69314718 1.69314718\n",
      " 1.69314718 1.        ]\n"
     ]
    }
   ],
   "source": [
    "from sklearn.feature_extraction.text import TfidfTransformer\n",
    "\n",
    "#create the transform\n",
    "vectorizer = TfidfTransformer()\n",
    "\n",
    "vectorizer.fit(counts)\n",
    "print(\"Learning frequency of all features \\n\" + str(vectorizer.idf_))"
   ]
  },
  {
   "cell_type": "code",
   "execution_count": 11,
   "metadata": {},
   "outputs": [
    {
     "name": "stdout",
     "output_type": "stream",
     "text": [
      "Transforming the matrix based on the learnt frequencies or weight \n",
      "\n",
      "[[0.36388646 0.27674503 0.27674503 0.36388646 0.36388646 0.36388646\n",
      "  0.36388646 0.42983441]\n",
      " [0.         0.78980693 0.         0.         0.         0.\n",
      "  0.         0.61335554]\n",
      " [0.         0.         0.78980693 0.         0.         0.\n",
      "  0.         0.61335554]]\n"
     ]
    }
   ],
   "source": [
    "freq = vectorizer.transform(counts)\n",
    "print('Transforming the matrix based on the learnt frequencies or weight \\n')\n",
    "print(str(freq.toarray()))"
   ]
  },
  {
   "cell_type": "code",
   "execution_count": null,
   "metadata": {},
   "outputs": [],
   "source": []
  }
 ],
 "metadata": {
  "kernelspec": {
   "display_name": "Python 2",
   "language": "python",
   "name": "python2"
  },
  "language_info": {
   "codemirror_mode": {
    "name": "ipython",
    "version": 2
   },
   "file_extension": ".py",
   "mimetype": "text/x-python",
   "name": "python",
   "nbconvert_exporter": "python",
   "pygments_lexer": "ipython2",
   "version": "2.7.15"
  }
 },
 "nbformat": 4,
 "nbformat_minor": 2
}
