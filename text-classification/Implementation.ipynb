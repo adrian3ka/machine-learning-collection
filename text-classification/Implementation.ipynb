{
 "cells": [
  {
   "cell_type": "code",
   "execution_count": 43,
   "metadata": {},
   "outputs": [],
   "source": [
    "import sklearn.datasets as skd\n",
    "categories = ['alt.atheism','soc.religion.christian','comp.graphics','sci.med']\n",
    "news_train = skd.load_files('./20news-bydate-train', categories=categories,\n",
    "                            encoding='ISO-8859-1')\n",
    "news_test = skd.load_files('./20news-bydate-test', categories=categories,\n",
    "                            encoding='ISO-8859-1')"
   ]
  },
  {
   "cell_type": "code",
   "execution_count": 44,
   "metadata": {},
   "outputs": [
    {
     "name": "stdout",
     "output_type": "stream",
     "text": [
      "['target_names', 'data', 'target', 'DESCR', 'filenames']\n",
      "['alt.atheism', 'comp.graphics', 'sci.med', 'soc.religion.christian']\n"
     ]
    }
   ],
   "source": [
    "print news_train.keys()\n",
    "print news_train.target_names"
   ]
  },
  {
   "cell_type": "code",
   "execution_count": 55,
   "metadata": {},
   "outputs": [
    {
     "name": "stdout",
     "output_type": "stream",
     "text": [
      "  (0, 10625)\t1\n",
      "  (0, 12103)\t1\n",
      "  (0, 6412)\t1\n",
      "  (0, 19902)\t1\n",
      "  (0, 31038)\t1\n",
      "  (0, 30808)\t1\n",
      "  (0, 30187)\t1\n",
      "  (0, 14581)\t1\n",
      "  (0, 19076)\t1\n",
      "  (0, 9992)\t1\n",
      "  (0, 16087)\t1\n",
      "  (0, 4435)\t1\n",
      "  (0, 13715)\t1\n",
      "  (0, 10983)\t1\n",
      "  (0, 16302)\t1\n",
      "  (0, 32164)\t1\n",
      "  (0, 6057)\t1\n",
      "  (0, 8039)\t1\n",
      "  (0, 24794)\t1\n",
      "  (0, 17881)\t1\n",
      "  (0, 30180)\t1\n",
      "  (0, 20463)\t1\n",
      "  (0, 24800)\t1\n",
      "  (0, 21178)\t1\n",
      "  (0, 25438)\t1\n",
      "  :\t:\n",
      "  (0, 33820)\t1\n",
      "  (0, 5698)\t3\n",
      "  (0, 17330)\t1\n",
      "  (0, 23610)\t5\n",
      "  (0, 33597)\t1\n",
      "  (0, 23915)\t1\n",
      "  (0, 12324)\t1\n",
      "  (0, 7632)\t1\n",
      "  (0, 22944)\t1\n",
      "  (0, 5529)\t1\n",
      "  (0, 31342)\t1\n",
      "  (0, 29224)\t1\n",
      "  (0, 22379)\t3\n",
      "  (0, 18474)\t8\n",
      "  (0, 27031)\t1\n",
      "  (0, 31077)\t1\n",
      "  (0, 8386)\t1\n",
      "  (0, 24616)\t1\n",
      "  (0, 10644)\t1\n",
      "  (0, 12626)\t1\n",
      "  (0, 33253)\t1\n",
      "  (0, 10351)\t1\n",
      "  (0, 33973)\t1\n",
      "  (0, 12187)\t1\n",
      "  (0, 14887)\t1\n"
     ]
    }
   ],
   "source": [
    "from sklearn.feature_extraction.text import CountVectorizer\n",
    "count_vect = CountVectorizer()\n",
    "x_train_tf = count_vect.fit_transform(news_train.data)\n",
    "x_train_tf.shape\n",
    "print x_train_tf[0]"
   ]
  },
  {
   "cell_type": "code",
   "execution_count": 56,
   "metadata": {},
   "outputs": [
    {
     "name": "stdout",
     "output_type": "stream",
     "text": [
      "  (0, 14887)\t0.013102097704912184\n",
      "  (0, 12187)\t0.09611620766320343\n",
      "  (0, 33973)\t0.07210554627296209\n",
      "  (0, 10351)\t0.06627922919480551\n",
      "  (0, 33253)\t0.061307119093227704\n",
      "  (0, 12626)\t0.017541960977134428\n",
      "  (0, 10644)\t0.06627922919480551\n",
      "  (0, 24616)\t0.052340874740584284\n",
      "  (0, 8386)\t0.09611620766320343\n",
      "  (0, 31077)\t0.013102097704912184\n",
      "  (0, 27031)\t0.017070122523036038\n",
      "  (0, 18474)\t0.12457904612036748\n",
      "  (0, 22379)\t0.1853253027039368\n",
      "  (0, 29224)\t0.0606350693385552\n",
      "  (0, 31342)\t0.061307119093227704\n",
      "  (0, 5529)\t0.02303478660620277\n",
      "  (0, 22944)\t0.04609616775926852\n",
      "  (0, 7632)\t0.10519788974678426\n",
      "  (0, 12324)\t0.08411087696808277\n",
      "  (0, 23915)\t0.013854406521398145\n",
      "  (0, 33597)\t0.025613181000472118\n",
      "  (0, 23610)\t0.07117373159237683\n",
      "  (0, 17330)\t0.06153902068171969\n",
      "  (0, 5698)\t0.07143855784277225\n",
      "  (0, 33820)\t0.06807685169409872\n",
      "  :\t:\n",
      "  (0, 25438)\t0.03749097810291199\n",
      "  (0, 21178)\t0.04786629371603564\n",
      "  (0, 24800)\t0.0797023848488813\n",
      "  (0, 20463)\t0.0417288772391299\n",
      "  (0, 30180)\t0.04147346763657993\n",
      "  (0, 17881)\t0.09611620766320343\n",
      "  (0, 24794)\t0.09988544628441831\n",
      "  (0, 8039)\t0.06769705415376064\n",
      "  (0, 6057)\t0.048115865027643895\n",
      "  (0, 32164)\t0.031184477345864256\n",
      "  (0, 16302)\t0.029827120978286294\n",
      "  (0, 10983)\t0.06411633817649352\n",
      "  (0, 13715)\t0.050504659878469985\n",
      "  (0, 4435)\t0.08703452557962263\n",
      "  (0, 16087)\t0.05030462396690537\n",
      "  (0, 9992)\t0.03216609790709689\n",
      "  (0, 19076)\t0.028578357690217278\n",
      "  (0, 14581)\t0.05293383102536316\n",
      "  (0, 30187)\t0.03535977294697149\n",
      "  (0, 30808)\t0.03994713607233255\n",
      "  (0, 31038)\t0.052225437009646894\n",
      "  (0, 19902)\t0.06627922919480551\n",
      "  (0, 6412)\t0.03441148282137448\n",
      "  (0, 12103)\t0.04519221641610403\n",
      "  (0, 10625)\t0.061307119093227704\n",
      "[2 1 3 ... 1 1 2]\n"
     ]
    }
   ],
   "source": [
    "from sklearn.feature_extraction.text import TfidfTransformer\n",
    "tfidf_transformer = TfidfTransformer()\n",
    "x_train_tfidf = tfidf_transformer.fit_transform(x_train_tf)\n",
    "x_train_tfidf.shape\n",
    "\n",
    "\n",
    "print x_train_tfidf[0]\n",
    "print news_train.target"
   ]
  },
  {
   "cell_type": "code",
   "execution_count": 61,
   "metadata": {},
   "outputs": [],
   "source": [
    "from sklearn.naive_bayes import MultinomialNB\n",
    "clf = MultinomialNB().fit(x_train_tf, news_train.target)\n"
   ]
  },
  {
   "cell_type": "code",
   "execution_count": 59,
   "metadata": {},
   "outputs": [],
   "source": [
    "docs_new = ['God is love','OpenGL on the GPU is fast']\n",
    "x_new_counts = count_vect.transform(docs_new)\n",
    "x_new_tfidf = tfidf_transformer.transform(x_new_counts)\n",
    "predicted = clf.predict(x_new_tfidf)"
   ]
  },
  {
   "cell_type": "code",
   "execution_count": 63,
   "metadata": {},
   "outputs": [
    {
     "name": "stdout",
     "output_type": "stream",
     "text": [
      "[4.13726727 4.91557225 8.02908756 ... 8.02908756 8.02908756 8.02908756]\n"
     ]
    }
   ],
   "source": [
    "print tfidf_transformer.idf_"
   ]
  },
  {
   "cell_type": "code",
   "execution_count": 60,
   "metadata": {},
   "outputs": [
    {
     "name": "stdout",
     "output_type": "stream",
     "text": [
      "3\n",
      "1\n"
     ]
    }
   ],
   "source": [
    "for x in predicted:\n",
    "    print(x)"
   ]
  },
  {
   "cell_type": "code",
   "execution_count": 8,
   "metadata": {},
   "outputs": [],
   "source": [
    "x_test_tf = count_vect.transform(news_test.data)\n",
    "x_test_tfidf = tfidf_transformer.transform(x_test_tf)\n",
    "predicted = clf.predict(x_test_tfidf)"
   ]
  },
  {
   "cell_type": "code",
   "execution_count": 9,
   "metadata": {},
   "outputs": [
    {
     "name": "stdout",
     "output_type": "stream",
     "text": [
      "('Accuracy', 0.8348868175765646)\n"
     ]
    }
   ],
   "source": [
    "from sklearn import metrics\n",
    "from sklearn.metrics import accuracy_score\n",
    "\n",
    "print ('Accuracy', accuracy_score(news_test.target,predicted))"
   ]
  },
  {
   "cell_type": "code",
   "execution_count": 10,
   "metadata": {},
   "outputs": [
    {
     "name": "stdout",
     "output_type": "stream",
     "text": [
      "                        precision    recall  f1-score   support\n",
      "\n",
      "           alt.atheism       0.97      0.60      0.74       319\n",
      "         comp.graphics       0.96      0.89      0.92       389\n",
      "               sci.med       0.97      0.81      0.88       396\n",
      "soc.religion.christian       0.65      0.99      0.78       398\n",
      "\n",
      "           avg / total       0.88      0.83      0.84      1502\n",
      "\n"
     ]
    }
   ],
   "source": [
    "print(metrics.classification_report(news_test.target,\n",
    "                                    predicted,\n",
    "                                    target_names=news_test.target_names))"
   ]
  },
  {
   "cell_type": "code",
   "execution_count": 11,
   "metadata": {},
   "outputs": [
    {
     "data": {
      "text/plain": [
       "array([[192,   2,   6, 119],\n",
       "       [  2, 347,   4,  36],\n",
       "       [  2,  11, 322,  61],\n",
       "       [  2,   2,   1, 393]])"
      ]
     },
     "execution_count": 11,
     "metadata": {},
     "output_type": "execute_result"
    }
   ],
   "source": [
    "metrics.confusion_matrix(news_test.target, predicted)"
   ]
  }
 ],
 "metadata": {
  "kernelspec": {
   "display_name": "Python 2",
   "language": "python",
   "name": "python2"
  },
  "language_info": {
   "codemirror_mode": {
    "name": "ipython",
    "version": 2
   },
   "file_extension": ".py",
   "mimetype": "text/x-python",
   "name": "python",
   "nbconvert_exporter": "python",
   "pygments_lexer": "ipython2",
   "version": "2.7.15"
  }
 },
 "nbformat": 4,
 "nbformat_minor": 2
}
